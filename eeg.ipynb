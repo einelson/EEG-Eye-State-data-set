{
 "cells": [
  {
   "cell_type": "markdown",
   "metadata": {},
   "source": [
    "<h1>Machine learning using Neural networks to predict eye state data</h1>\n",
    "<p>\n",
    "The purpose of this project is to get more familiar with an eeg dataset and learn more about data manipulation. The dataset is slipt into 15 differents columns with the last being the target values (0,1). The target values represent the state of the eye, being open or closed. The other data represents the value of an eeg node which gets the value of the electrical activity in that sector surrounding the node.<br>\n",
    "This dataset is located in the UCI database found <a href='https://archive.ics.uci.edu/ml/datasets/EEG+Eye+State'>here</a>\n",
    "</p>"
   ]
  },
  {
   "cell_type": "markdown",
   "metadata": {},
   "source": [
    "<h2>The purpose of the nodes and locations</h2>\n",
    "<p>The nodes used in this dataset are located in the red filled nodes shown below in Figure 1.</p>\n",
    "<img src='data/eeg_eye_state_map.png' alt='eeg_eye_state_map'>Figure 1 <br>Source: https://www.researchgate.net/figure/Surface-map-of-EEG-electrode-locations_fig34_230864997</img>"
   ]
  },
  {
   "cell_type": "markdown",
   "metadata": {},
   "source": [
    "<h2>The purpose of the node locations</h2>\n",
    "<p>The node locations are placed uniformly on the scalp in order to get the maximum coverage of the brain with the most uniform data. The barin is composed of different reigons, namely the:\n",
    "    <ul>\n",
    "        <li>Occipital lobe: Visual area, sight, image recoginition</li>\n",
    "        <li>Temporal lobe: Association area, short term memory, emotion</li>\n",
    "        <li>Parential lobe: Motor function, voluntary muscles</li>\n",
    "        <li>Frontal lobe: Brocas area, muscles of speech</li>\n",
    "        <li>Temporal lobe: Auditory area, hearing</li>\n",
    "        <li>[name]: Emotional area, pain, hunger, 'flight or fight'</li>\n",
    "        <li>Pariental lobe: Sensory association</li>\n",
    "        <li>Frontal lobe: Oilfactory, smelling</li>\n",
    "        <li>Pariental lobe: Sensory area, sensation grom skin and muscles</li>\n",
    "        <li>Pariental lobe: Somatosensory association, evaluation of weight, temperature, texture (object recognition)</li>\n",
    "        <li>Temporal lobe: Wernicke's area, Written and spoken language comprehension</li>\n",
    "        <li>Cerebral Cortex: Motor function, eye movement and orientation</li>\n",
    "        <li>Frontal lobe: Higher mental functions, concentration, planning, judgement, emotional expression, creativity, inhibition</li>\n",
    "        <li>Cerebellum: Motor functions, balance, equilibrium, posture, coordination of movement</li>\n",
    "    </ul>\n",
    "    The data above can be visualized in Figure 2.\n",
    "</p>\n",
    "<img src='data/anatomy-function-brain-areas-basics-large.jpg' alt='Brain location map'>\n",
    "Figure 2<br>Source: https://www.dana.org/wp-content/uploads/2019/08/anatomy-function-brain-areas-basics-large.jpg</img>\n",
    "<p>By looking at the node locations in this experiment and comparing with the lobe location and function we can see why these certain locations were picked.\n",
    "    <ul>\n",
    "        <li>AF3/AF4: Frontal lobe- Higher mental functions</li>\n",
    "        <li>F3/F4: Frontal lobe- Higher mental functions</li>\n",
    "        <li>F7/F8: Inferior Frontal/Brocas- Functions of Speech</li>\n",
    "        <li>FC5/FC8: Cerebral Cortex-Motor functions <strong>eye movement/ orientation</strong></li>\n",
    "        <li>T7/T8: Temporal lobe- Short term memory/emotion</li>\n",
    "        <li>P7/P8: Posterior Temporal- Hearing, speech <strong>visual</strong> recoginition</li>\n",
    "        <li>O1/O2: Occipital lobe- <strong>Visual, sight, image recognition</strong></li>\n",
    "    </ul>\n",
    "</p>"
   ]
  },
  {
   "cell_type": "markdown",
   "metadata": {},
   "source": [
    "<h2>Code: EEG eye-state prediction</h2>"
   ]
  },
  {
   "cell_type": "code",
   "execution_count": 1,
   "metadata": {},
   "outputs": [
    {
     "name": "stderr",
     "output_type": "stream",
     "text": [
      "Using TensorFlow backend.\n"
     ]
    }
   ],
   "source": [
    "# import libraries\n",
    "import numpy as np\n",
    "import pandas as pd\n",
    "from scipy.io.arff import loadarff\n",
    "from scipy import stats\n",
    "\n",
    "from keras.utils import normalize\n",
    "from keras.utils import np_utils\n",
    "from keras.models import Sequential\n",
    "from keras.layers import Dense, Activation, Dropout\n",
    "from keras.optimizers import Adam\n",
    "\n",
    "from sklearn.model_selection import train_test_split\n",
    "from sklearn.metrics import accuracy_score\n",
    "from sklearn.preprocessing import StandardScaler\n"
   ]
  },
  {
   "cell_type": "code",
   "execution_count": 2,
   "metadata": {
    "scrolled": true
   },
   "outputs": [],
   "source": [
    "# Load in the data frame\n",
    "raw_data = loadarff('data/EEG Eye State.arff')\n",
    "df_data = pd.DataFrame(raw_data[0])\n",
    "# df_data.head()"
   ]
  },
  {
   "cell_type": "markdown",
   "metadata": {},
   "source": [
    "<p>In order to pre-process the data I split the data into two sets, The data and the targets. Next I normalized by z-score to make the data more manageable and easier to learn.<br>The targets here are 1 or 0, meaning is the eye open or closed?</p>"
   ]
  },
  {
   "cell_type": "code",
   "execution_count": 3,
   "metadata": {},
   "outputs": [],
   "source": [
    "# Preprocess Data\n",
    "# split into data and targets\n",
    "data_targets=df_data.iloc[:,-1]\n",
    "data=df_data.iloc[:,:-1]\n",
    "\n",
    "# data normalization with sklearn z-score\n",
    "scaler = StandardScaler()\n",
    "scaler.fit(data)\n",
    "data = scaler.transform(data)\n",
    "\n",
    "# convert targets into 1 or 0\n",
    "data_targets=np_utils.to_categorical(data_targets, num_classes=2)"
   ]
  },
  {
   "cell_type": "markdown",
   "metadata": {},
   "source": [
    "<p>In order to split into training and test data I use the method train_test_split() which randomizes the data while splitting it into a training and testing data set. The data is split into 80% training and 20% testing and validation.</p>"
   ]
  },
  {
   "cell_type": "code",
   "execution_count": 4,
   "metadata": {
    "scrolled": true
   },
   "outputs": [],
   "source": [
    "# split the data\n",
    "xTrain, xTest, yTrain, yTest = train_test_split(data, data_targets, test_size = 0.2)\n",
    "# print(xTrain, yTrain)"
   ]
  },
  {
   "cell_type": "markdown",
   "metadata": {},
   "source": [
    "<h2>Basic classification</h2>\n",
    "<p>This is the creation of the model.<br>\n",
    "The model is split into 4 layers with two being the hidden layers. The goal here is to make a network that can accurately predict the satet of the eye, being 0 or 1.<br>\n",
    "The layers [100, 50, 50, 2] with the batch size 32 and 50 epochs gives us an accuracy rate of 88.6%.<br>\n",
    "The layers [200, 150, 50, 2] with the batch size 32 and 50 apochs gives us an accuracy rate of 90.8%.</p>"
   ]
  },
  {
   "cell_type": "code",
   "execution_count": null,
   "metadata": {
    "scrolled": true
   },
   "outputs": [
    {
     "name": "stdout",
     "output_type": "stream",
     "text": [
      "Model: \"sequential_22\"\n",
      "_________________________________________________________________\n",
      "Layer (type)                 Output Shape              Param #   \n",
      "=================================================================\n",
      "dense_91 (Dense)             (None, 200)               3000      \n",
      "_________________________________________________________________\n",
      "dense_92 (Dense)             (None, 150)               30150     \n",
      "_________________________________________________________________\n",
      "dense_93 (Dense)             (None, 50)                7550      \n",
      "_________________________________________________________________\n",
      "dense_94 (Dense)             (None, 25)                1275      \n",
      "_________________________________________________________________\n",
      "dense_95 (Dense)             (None, 2)                 52        \n",
      "=================================================================\n",
      "Total params: 42,027\n",
      "Trainable params: 42,027\n",
      "Non-trainable params: 0\n",
      "_________________________________________________________________\n",
      "None\n",
      "Train on 11984 samples, validate on 2996 samples\n",
      "Epoch 1/50\n",
      "11984/11984 [==============================] - 5s 440us/step - loss: 0.6124 - accuracy: 0.6428 - val_loss: 0.5451 - val_accuracy: 0.6969\n",
      "Epoch 2/50\n",
      "11984/11984 [==============================] - 5s 430us/step - loss: 0.5402 - accuracy: 0.7472 - val_loss: 0.4935 - val_accuracy: 0.7493\n",
      "Epoch 3/50\n",
      "11984/11984 [==============================] - 5s 376us/step - loss: 0.4406 - accuracy: 0.7848 - val_loss: 0.4242 - val_accuracy: 0.7961\n",
      "Epoch 4/50\n",
      "11984/11984 [==============================] - 4s 348us/step - loss: 0.4025 - accuracy: 0.8086 - val_loss: 0.4188 - val_accuracy: 0.7962\n",
      "Epoch 5/50\n",
      "11984/11984 [==============================] - 4s 341us/step - loss: 0.3803 - accuracy: 0.8198 - val_loss: 0.3971 - val_accuracy: 0.8039\n",
      "Epoch 6/50\n",
      "11984/11984 [==============================] - 4s 307us/step - loss: 0.3601 - accuracy: 0.8342 - val_loss: 0.3790 - val_accuracy: 0.8218\n",
      "Epoch 7/50\n",
      "11984/11984 [==============================] - 4s 335us/step - loss: 0.3423 - accuracy: 0.8413 - val_loss: 0.3787 - val_accuracy: 0.8209\n",
      "Epoch 8/50\n",
      "11984/11984 [==============================] - 3s 224us/step - loss: 0.3286 - accuracy: 0.8491 - val_loss: 0.3615 - val_accuracy: 0.8308\n",
      "Epoch 9/50\n",
      "11984/11984 [==============================] - 2s 200us/step - loss: 0.3156 - accuracy: 0.8556 - val_loss: 0.3438 - val_accuracy: 0.8400\n",
      "Epoch 10/50\n",
      "11984/11984 [==============================] - 2s 199us/step - loss: 0.3279 - accuracy: 0.8562 - val_loss: 0.4315 - val_accuracy: 0.7916\n",
      "Epoch 11/50\n",
      "11984/11984 [==============================] - 3s 235us/step - loss: 0.2909 - accuracy: 0.8675 - val_loss: 0.3283 - val_accuracy: 0.8518\n",
      "Epoch 12/50\n",
      "11984/11984 [==============================] - 2s 181us/step - loss: 0.2808 - accuracy: 0.8749 - val_loss: 0.3420 - val_accuracy: 0.8471\n",
      "Epoch 13/50\n",
      "11984/11984 [==============================] - 2s 181us/step - loss: 0.2739 - accuracy: 0.8782 - val_loss: 0.3274 - val_accuracy: 0.8543\n",
      "Epoch 14/50\n",
      "11984/11984 [==============================] - 2s 169us/step - loss: 0.2622 - accuracy: 0.8825 - val_loss: 0.3178 - val_accuracy: 0.8553\n",
      "Epoch 15/50\n",
      "11984/11984 [==============================] - 3s 234us/step - loss: 0.2457 - accuracy: 0.8886 - val_loss: 0.3336 - val_accuracy: 0.8458\n",
      "Epoch 16/50\n",
      "11984/11984 [==============================] - 4s 298us/step - loss: 0.2390 - accuracy: 0.8959 - val_loss: 0.3125 - val_accuracy: 0.8585\n",
      "Epoch 17/50\n",
      "11984/11984 [==============================] - 4s 351us/step - loss: 0.2372 - accuracy: 0.8984 - val_loss: 0.3075 - val_accuracy: 0.8643\n",
      "Epoch 18/50\n",
      "11984/11984 [==============================] - 4s 327us/step - loss: 0.2264 - accuracy: 0.9025 - val_loss: 0.3027 - val_accuracy: 0.8630\n",
      "Epoch 19/50\n",
      "11984/11984 [==============================] - 4s 294us/step - loss: 0.2165 - accuracy: 0.9059 - val_loss: 0.3328 - val_accuracy: 0.8611\n",
      "Epoch 20/50\n",
      "11984/11984 [==============================] - 2s 191us/step - loss: 0.2147 - accuracy: 0.9078 - val_loss: 0.2906 - val_accuracy: 0.8740\n",
      "Epoch 21/50\n",
      "11984/11984 [==============================] - 2s 197us/step - loss: 0.2054 - accuracy: 0.9107 - val_loss: 0.2909 - val_accuracy: 0.8720\n",
      "Epoch 22/50\n",
      "11984/11984 [==============================] - 2s 185us/step - loss: 0.1998 - accuracy: 0.9136 - val_loss: 0.2895 - val_accuracy: 0.8692\n",
      "Epoch 23/50\n",
      "11984/11984 [==============================] - 2s 190us/step - loss: 0.1962 - accuracy: 0.9165 - val_loss: 0.3203 - val_accuracy: 0.8615\n",
      "Epoch 24/50\n",
      "11984/11984 [==============================] - 2s 193us/step - loss: 0.1900 - accuracy: 0.9180 - val_loss: 0.3077 - val_accuracy: 0.8737\n",
      "Epoch 25/50\n",
      "11984/11984 [==============================] - 3s 238us/step - loss: 0.1795 - accuracy: 0.9257 - val_loss: 0.3008 - val_accuracy: 0.8783\n",
      "Epoch 26/50\n",
      "11984/11984 [==============================] - 3s 211us/step - loss: 0.1753 - accuracy: 0.9290 - val_loss: 0.3017 - val_accuracy: 0.8805\n",
      "Epoch 27/50\n",
      "11984/11984 [==============================] - 2s 206us/step - loss: 0.1667 - accuracy: 0.9303 - val_loss: 0.3117 - val_accuracy: 0.8680\n",
      "Epoch 28/50\n",
      "11984/11984 [==============================] - 3s 212us/step - loss: 0.1624 - accuracy: 0.9322 - val_loss: 0.3128 - val_accuracy: 0.8748\n",
      "Epoch 29/50\n",
      "11984/11984 [==============================] - 2s 185us/step - loss: 0.1587 - accuracy: 0.9338 - val_loss: 0.2728 - val_accuracy: 0.8828\n",
      "Epoch 30/50\n",
      "11984/11984 [==============================] - 3s 280us/step - loss: 0.1556 - accuracy: 0.9364 - val_loss: 0.2684 - val_accuracy: 0.8855\n",
      "Epoch 31/50\n",
      "11984/11984 [==============================] - 2s 181us/step - loss: 0.1810 - accuracy: 0.9322 - val_loss: 0.3051 - val_accuracy: 0.8818\n",
      "Epoch 32/50\n",
      "11984/11984 [==============================] - 4s 302us/step - loss: 0.1527 - accuracy: 0.9372 - val_loss: 0.3169 - val_accuracy: 0.8740\n",
      "Epoch 33/50\n",
      "11984/11984 [==============================] - 4s 295us/step - loss: 0.1354 - accuracy: 0.9438 - val_loss: 0.3143 - val_accuracy: 0.8803\n",
      "Epoch 34/50\n",
      "11984/11984 [==============================] - 5s 394us/step - loss: 0.1367 - accuracy: 0.9437 - val_loss: 0.2751 - val_accuracy: 0.8875\n",
      "Epoch 35/50\n",
      "11984/11984 [==============================] - 3s 245us/step - loss: 0.1352 - accuracy: 0.9458 - val_loss: 0.2988 - val_accuracy: 0.8850\n",
      "Epoch 36/50\n",
      "11984/11984 [==============================] - 3s 279us/step - loss: 0.1273 - accuracy: 0.9483 - val_loss: 0.2633 - val_accuracy: 0.8982\n",
      "Epoch 37/50\n",
      "11984/11984 [==============================] - 3s 267us/step - loss: 0.1303 - accuracy: 0.9467 - val_loss: 0.2726 - val_accuracy: 0.8957\n",
      "Epoch 38/50\n",
      "11984/11984 [==============================] - 3s 265us/step - loss: 0.1267 - accuracy: 0.9495 - val_loss: 0.2780 - val_accuracy: 0.8980\n",
      "Epoch 39/50\n",
      "10560/11984 [=========================>....] - ETA: 0s - loss: 0.1204 - accuracy: 0.9529"
     ]
    }
   ],
   "source": [
    "# create model\n",
    "model = Sequential()\n",
    "model.add(Dense(200, activation='relu', input_dim=14))\n",
    "model.add(Dense(150, activation='relu'))\n",
    "model.add(Dense(50, activation='relu'))\n",
    "model.add(Dense(25, activation='relu'))\n",
    "model.add(Dense(2, activation='sigmoid'))\n",
    "print(model.summary())\n",
    "\n",
    "model.compile(loss='binary_crossentropy', optimizer='adam', metrics=['accuracy'])\n",
    "model.fit(x=xTrain, y=yTrain,epochs=50,batch_size=32, validation_data=(xTest,yTest))\n",
    "\n",
    "score, acc = model.evaluate(x=xTest, y=yTest)\n",
    "# print(model.predict(xTest))\n",
    "\n",
    "print('Accuracy: ',100*(acc))"
   ]
  },
  {
   "cell_type": "markdown",
   "metadata": {},
   "source": [
    "<h2>CNN based classification</h2>"
   ]
  },
  {
   "cell_type": "markdown",
   "metadata": {},
   "source": [
    "<h2>Sources</h2>\n",
    "<ul>\n",
    "    <li>https://www.dana.org/article/neuroanatomy-the-basics/</li>\n",
    "</ul>"
   ]
  }
 ],
 "metadata": {
  "file_extension": ".py",
  "kernelspec": {
   "display_name": "Python 3",
   "language": "python",
   "name": "python3"
  },
  "language_info": {
   "codemirror_mode": {
    "name": "ipython",
    "version": 3
   },
   "file_extension": ".py",
   "mimetype": "text/x-python",
   "name": "python",
   "nbconvert_exporter": "python",
   "pygments_lexer": "ipython3",
   "version": "3.7.6"
  },
  "mimetype": "text/x-python",
  "name": "python",
  "npconvert_exporter": "python",
  "pygments_lexer": "ipython3",
  "version": 3,
  "widgets": {
   "application/vnd.jupyter.widget-state+json": {
    "state": {},
    "version_major": 2,
    "version_minor": 0
   }
  }
 },
 "nbformat": 4,
 "nbformat_minor": 2
}
