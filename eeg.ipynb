{
 "cells": [
  {
   "cell_type": "markdown",
   "metadata": {},
   "source": [
    "<h1>Machine learning using Neural networks to predict eye state data</h1>\n",
    "<p>\n",
    "The purpose of this project is to get more familiar with an eeg dataset and learn more about data manipulation. The dataset is slipt into 15 differents columns with the last being the target values (0,1). The target values represent the state of the eye, being open or closed. The other data represents the value of an eeg node which gets the value of the electrical activity in that sector surrounding the node.<br>\n",
    "This dataset is located in the UCI database found <a href='https://archive.ics.uci.edu/ml/datasets/EEG+Eye+State'>here</a>\n",
    "</p>"
   ]
  },
  {
   "cell_type": "markdown",
   "metadata": {},
   "source": [
    "<h2>The purpose of the nodes and locations</h2>\n",
    "<p>The nodes used in this dataset are located in the red filled nodes shown below in Figure 1.</p>\n",
    "<img src='data/eeg_eye_state_map.png' alt='eeg_eye_state_map'>Figure 1 <br>Source:\n",
    "<a href='https://www.researchgate.net/figure/Surface-map-of-EEG-electrode-locations_fig34_230864997'>https://www.researchgate.net/figure/Surface-map-of-EEG-electrode-locations_fig34_230864997</a>"
   ]
  },
  {
   "cell_type": "markdown",
   "metadata": {},
   "source": [
    "<h2>The purpose of the node locations</h2>\n",
    "<p>The node locations are placed uniformly on the scalp in order to get the maximum coverage of the brain with the most uniform data. The barin is composed of different reigons, namely the:\n",
    "    <ul>\n",
    "        <li>Occipital lobe: Visual area, sight, image recoginition</li>\n",
    "        <li>Temporal lobe: Association area, short term memory, emotion</li>\n",
    "        <li>Parential lobe: Motor function, voluntary muscles</li>\n",
    "        <li>Frontal lobe: Brocas area, muscles of speech</li>\n",
    "        <li>Temporal lobe: Auditory area, hearing</li>\n",
    "        <li>[name]: Emotional area, pain, hunger, 'flight or fight'</li>\n",
    "        <li>Pariental lobe: Sensory association</li>\n",
    "        <li>Frontal lobe: Oilfactory, smelling</li>\n",
    "        <li>Pariental lobe: Sensory area, sensation grom skin and muscles</li>\n",
    "        <li>Pariental lobe: Somatosensory association, evaluation of weight, temperature, texture (object recognition)</li>\n",
    "        <li>Temporal lobe: Wernicke's area, Written and spoken language comprehension</li>\n",
    "        <li>Cerebral Cortex: Motor function, eye movement and orientation</li>\n",
    "        <li>Frontal lobe: Higher mental functions, concentration, planning, judgement, emotional expression, creativity, inhibition</li>\n",
    "        <li>Cerebellum: Motor functions, balance, equilibrium, posture, coordination of movement</li>\n",
    "    </ul>\n",
    "    The data above can be visualized in Figure 2.\n",
    "</p>\n",
    "<img src='data/anatomy-function-brain-areas-basics-large.jpg' alt='Brain location map'>\n",
    "Figure 2<br>Source:\n",
    "<a href='https://www.dana.org/wp-content/uploads/2019/08/anatomy-function-brain-areas-basics-large.jpg'>https://www.dana.org/wp-content/uploads/2019/08/anatomy-function-brain-areas-basics-large.jpg</a></img>\n",
    "<p>By looking at the node locations in this experiment and comparing with the lobe location and function we can see why these certain locations were picked.\n",
    "    <ul>\n",
    "        <li>AF3/AF4: Frontal lobe- Higher mental functions</li>\n",
    "        <li>F3/F4: Frontal lobe- Higher mental functions</li>\n",
    "        <li>F7/F8: Inferior Frontal/Brocas- Functions of Speech</li>\n",
    "        <li>FC5/FC8: Cerebral Cortex-Motor functions <strong>eye movement/ orientation</strong></li>\n",
    "        <li>T7/T8: Temporal lobe- Short term memory/emotion</li>\n",
    "        <li>P7/P8: Posterior Temporal- Hearing, speech <strong>visual</strong> recoginition</li>\n",
    "        <li>O1/O2: Occipital lobe- <strong>Visual, sight, image recognition</strong></li>\n",
    "    </ul>\n",
    "    Looking at the locations of the nodes placement can help us gain an understanding of the <i>why?</i> The nodes seemed to be placed uniformly. (Which is debateably important. See: <a href='https://www.health.harvard.edu/blog/right-brainleft-brain-right-2017082512222'>https://www.health.harvard.edu/blog/right-brainleft-brain-right-2017082512222</a>) Looking further into the placement the nodes seem to cover the lobes of the brain that have to do with vision, along with some other lobes pertaining to thought/ memory and speech.\n",
    "</p>"
   ]
  },
  {
   "cell_type": "markdown",
   "metadata": {},
   "source": [
    "<h2>Code: EEG eye-state prediction</h2>"
   ]
  },
  {
   "cell_type": "code",
   "execution_count": 1,
   "metadata": {},
   "outputs": [
    {
     "name": "stderr",
     "output_type": "stream",
     "text": [
      "Using TensorFlow backend.\n"
     ]
    }
   ],
   "source": [
    "# import libraries\n",
    "import numpy as np\n",
    "import pandas as pd\n",
    "from scipy.io.arff import loadarff\n",
    "from scipy import stats\n",
    "\n",
    "from keras.utils import normalize\n",
    "from keras.utils import np_utils\n",
    "from keras.models import Sequential\n",
    "from keras.layers import Dense, Activation, Dropout\n",
    "from keras.optimizers import Adam\n",
    "\n",
    "from sklearn.model_selection import train_test_split\n",
    "from sklearn.metrics import accuracy_score\n",
    "from sklearn.preprocessing import StandardScaler\n"
   ]
  },
  {
   "cell_type": "code",
   "execution_count": 2,
   "metadata": {
    "scrolled": true
   },
   "outputs": [],
   "source": [
    "# Load in the data frame\n",
    "raw_data = loadarff('data/EEG Eye State.arff')\n",
    "df_data = pd.DataFrame(raw_data[0])\n",
    "# df_data.head()"
   ]
  },
  {
   "cell_type": "markdown",
   "metadata": {},
   "source": [
    "<p>In order to pre-process the data I split the data into two sets, The data and the targets. Next I normalized by z-score to make the data more manageable and easier to learn.<br>The targets here are 1 or 0, meaning is the eye open or closed?</p>"
   ]
  },
  {
   "cell_type": "code",
   "execution_count": 3,
   "metadata": {},
   "outputs": [],
   "source": [
    "# Preprocess Data\n",
    "# split into data and targets\n",
    "data_targets=df_data.iloc[:,-1]\n",
    "data=df_data.iloc[:,:-1]\n",
    "\n",
    "# data normalization with sklearn z-score\n",
    "scaler = StandardScaler()\n",
    "scaler.fit(data)\n",
    "data = scaler.transform(data)\n",
    "\n",
    "# convert targets into 1 or 0\n",
    "data_targets=np_utils.to_categorical(data_targets, num_classes=2)"
   ]
  },
  {
   "cell_type": "markdown",
   "metadata": {},
   "source": [
    "<p>In order to split into training and test data I use the method train_test_split() which randomizes the data while splitting it into a training and testing data set. The data is split into 80% training and 20% testing and validation.</p>"
   ]
  },
  {
   "cell_type": "code",
   "execution_count": 4,
   "metadata": {
    "scrolled": true
   },
   "outputs": [],
   "source": [
    "# split the data\n",
    "xTrain, xTest, yTrain, yTest = train_test_split(data, data_targets, test_size = 0.2)\n",
    "# print(xTrain, yTrain)"
   ]
  },
  {
   "cell_type": "markdown",
   "metadata": {},
   "source": [
    "<h2>Basic classification</h2>\n",
    "<p>This is the creation of the model.<br>\n",
    "The model is split into 4 layers with two being the hidden layers. The goal here is to make a network that can accurately predict the state of the eye, being 0 or 1.<br>\n",
    "</p>"
   ]
  },
  {
   "cell_type": "code",
   "execution_count": null,
   "metadata": {
    "scrolled": true
   },
   "outputs": [
    {
     "name": "stdout",
     "output_type": "stream",
     "text": [
      "Model: \"sequential_3\"\n",
      "_________________________________________________________________\n",
      "Layer (type)                 Output Shape              Param #   \n",
      "=================================================================\n",
      "dense_9 (Dense)              (None, 100)               1500      \n",
      "_________________________________________________________________\n",
      "dense_10 (Dense)             (None, 2)                 202       \n",
      "=================================================================\n",
      "Total params: 1,702\n",
      "Trainable params: 1,702\n",
      "Non-trainable params: 0\n",
      "_________________________________________________________________\n",
      "None\n",
      "Train on 11984 samples, validate on 2996 samples\n",
      "Epoch 1/200\n",
      "11984/11984 [==============================] - 1s 60us/step - loss: 0.6730 - accuracy: 0.5682 - val_loss: 0.6602 - val_accuracy: 0.5721\n",
      "Epoch 2/200\n",
      "11984/11984 [==============================] - 0s 41us/step - loss: 0.6637 - accuracy: 0.5748 - val_loss: 0.6623 - val_accuracy: 0.5706\n",
      "Epoch 3/200\n",
      "11984/11984 [==============================] - 0s 37us/step - loss: 0.6623 - accuracy: 0.5766 - val_loss: 0.6606 - val_accuracy: 0.5781\n",
      "Epoch 4/200\n",
      "11984/11984 [==============================] - 0s 38us/step - loss: 0.6615 - accuracy: 0.5814 - val_loss: 0.6581 - val_accuracy: 0.5844\n",
      "Epoch 5/200\n",
      "11984/11984 [==============================] - 1s 45us/step - loss: 0.6608 - accuracy: 0.5842 - val_loss: 0.6577 - val_accuracy: 0.5828\n",
      "Epoch 6/200\n",
      "11984/11984 [==============================] - 0s 37us/step - loss: 0.6601 - accuracy: 0.5833 - val_loss: 0.6577 - val_accuracy: 0.5881\n",
      "Epoch 7/200\n",
      "11984/11984 [==============================] - 0s 41us/step - loss: 0.6600 - accuracy: 0.5902 - val_loss: 0.6586 - val_accuracy: 0.5806\n",
      "Epoch 8/200\n",
      "11984/11984 [==============================] - 1s 43us/step - loss: 0.6595 - accuracy: 0.5856 - val_loss: 0.6590 - val_accuracy: 0.5869\n",
      "Epoch 9/200\n",
      "11984/11984 [==============================] - 0s 39us/step - loss: 0.6590 - accuracy: 0.5889 - val_loss: 0.6561 - val_accuracy: 0.5841\n",
      "Epoch 10/200\n",
      "11984/11984 [==============================] - 1s 42us/step - loss: 0.6586 - accuracy: 0.5909 - val_loss: 0.6556 - val_accuracy: 0.5903\n",
      "Epoch 11/200\n",
      "11984/11984 [==============================] - 1s 42us/step - loss: 0.6578 - accuracy: 0.5897 - val_loss: 0.6554 - val_accuracy: 0.5913\n",
      "Epoch 12/200\n",
      "11984/11984 [==============================] - 0s 39us/step - loss: 0.6574 - accuracy: 0.5953 - val_loss: 0.6542 - val_accuracy: 0.5983\n",
      "Epoch 13/200\n",
      "11984/11984 [==============================] - 0s 38us/step - loss: 0.6570 - accuracy: 0.5958 - val_loss: 0.6562 - val_accuracy: 0.5888\n",
      "Epoch 14/200\n",
      "11984/11984 [==============================] - 0s 37us/step - loss: 0.6567 - accuracy: 0.5971 - val_loss: 0.6530 - val_accuracy: 0.6026\n",
      "Epoch 15/200\n",
      "11984/11984 [==============================] - 0s 40us/step - loss: 0.6558 - accuracy: 0.5948 - val_loss: 0.6570 - val_accuracy: 0.5936\n",
      "Epoch 16/200\n",
      "11984/11984 [==============================] - 0s 38us/step - loss: 0.6553 - accuracy: 0.5981 - val_loss: 0.6552 - val_accuracy: 0.5978\n",
      "Epoch 17/200\n",
      "11984/11984 [==============================] - 0s 37us/step - loss: 0.6555 - accuracy: 0.5986 - val_loss: 0.6537 - val_accuracy: 0.6040\n",
      "Epoch 18/200\n",
      "11984/11984 [==============================] - 0s 37us/step - loss: 0.6540 - accuracy: 0.6023 - val_loss: 0.6502 - val_accuracy: 0.6058\n",
      "Epoch 19/200\n",
      "11984/11984 [==============================] - 0s 38us/step - loss: 0.6536 - accuracy: 0.6012 - val_loss: 0.6525 - val_accuracy: 0.6048\n",
      "Epoch 20/200\n",
      "11984/11984 [==============================] - 0s 38us/step - loss: 0.6534 - accuracy: 0.6027 - val_loss: 0.6509 - val_accuracy: 0.6090\n",
      "Epoch 21/200\n",
      "11984/11984 [==============================] - 0s 38us/step - loss: 0.6530 - accuracy: 0.6000 - val_loss: 0.6518 - val_accuracy: 0.6010\n",
      "Epoch 22/200\n",
      "11984/11984 [==============================] - 0s 37us/step - loss: 0.6518 - accuracy: 0.6042 - val_loss: 0.6469 - val_accuracy: 0.6018\n",
      "Epoch 23/200\n",
      "11984/11984 [==============================] - 0s 39us/step - loss: 0.6526 - accuracy: 0.6009 - val_loss: 0.6467 - val_accuracy: 0.6063\n",
      "Epoch 24/200\n",
      "11984/11984 [==============================] - 0s 37us/step - loss: 0.6516 - accuracy: 0.6014 - val_loss: 0.6545 - val_accuracy: 0.6018\n",
      "Epoch 25/200\n",
      "11984/11984 [==============================] - 0s 38us/step - loss: 0.6509 - accuracy: 0.6037 - val_loss: 0.6485 - val_accuracy: 0.6021\n",
      "Epoch 26/200\n",
      "11984/11984 [==============================] - 0s 38us/step - loss: 0.6510 - accuracy: 0.6054 - val_loss: 0.6472 - val_accuracy: 0.6147\n",
      "Epoch 27/200\n",
      "11984/11984 [==============================] - 0s 37us/step - loss: 0.6505 - accuracy: 0.6011 - val_loss: 0.6472 - val_accuracy: 0.6093\n",
      "Epoch 28/200\n",
      "11984/11984 [==============================] - 0s 40us/step - loss: 0.6508 - accuracy: 0.6040 - val_loss: 0.6442 - val_accuracy: 0.6202\n",
      "Epoch 29/200\n",
      "11984/11984 [==============================] - 0s 39us/step - loss: 0.6499 - accuracy: 0.6040 - val_loss: 0.6453 - val_accuracy: 0.6132\n",
      "Epoch 30/200\n",
      "11984/11984 [==============================] - 0s 38us/step - loss: 0.6492 - accuracy: 0.6109 - val_loss: 0.6439 - val_accuracy: 0.6217\n",
      "Epoch 31/200\n",
      "11984/11984 [==============================] - 0s 38us/step - loss: 0.6490 - accuracy: 0.6058 - val_loss: 0.6443 - val_accuracy: 0.6202\n",
      "Epoch 32/200\n",
      "11984/11984 [==============================] - 0s 37us/step - loss: 0.6482 - accuracy: 0.6088 - val_loss: 0.6465 - val_accuracy: 0.6133\n",
      "Epoch 33/200\n",
      "11984/11984 [==============================] - 0s 37us/step - loss: 0.6487 - accuracy: 0.6071 - val_loss: 0.6467 - val_accuracy: 0.6121\n",
      "Epoch 34/200\n",
      "11984/11984 [==============================] - 0s 39us/step - loss: 0.6480 - accuracy: 0.6118 - val_loss: 0.6429 - val_accuracy: 0.6147\n",
      "Epoch 35/200\n",
      "11984/11984 [==============================] - 0s 38us/step - loss: 0.6478 - accuracy: 0.6108 - val_loss: 0.6455 - val_accuracy: 0.6175\n",
      "Epoch 36/200\n",
      "11984/11984 [==============================] - 0s 39us/step - loss: 0.6481 - accuracy: 0.6107 - val_loss: 0.6472 - val_accuracy: 0.6137\n",
      "Epoch 37/200\n",
      "11984/11984 [==============================] - 0s 38us/step - loss: 0.6479 - accuracy: 0.6158 - val_loss: 0.6430 - val_accuracy: 0.6315\n",
      "Epoch 38/200\n",
      "11984/11984 [==============================] - 0s 38us/step - loss: 0.6485 - accuracy: 0.6124 - val_loss: 0.6422 - val_accuracy: 0.6315\n",
      "Epoch 39/200\n",
      "11984/11984 [==============================] - 1s 46us/step - loss: 0.6472 - accuracy: 0.6120 - val_loss: 0.6420 - val_accuracy: 0.6317\n",
      "Epoch 40/200\n",
      "11984/11984 [==============================] - 1s 49us/step - loss: 0.6477 - accuracy: 0.6160 - val_loss: 0.6442 - val_accuracy: 0.6250\n",
      "Epoch 41/200\n",
      "11984/11984 [==============================] - 0s 38us/step - loss: 0.6464 - accuracy: 0.6165 - val_loss: 0.6411 - val_accuracy: 0.6287\n",
      "Epoch 42/200\n",
      "11984/11984 [==============================] - 0s 36us/step - loss: 0.6468 - accuracy: 0.6207 - val_loss: 0.6420 - val_accuracy: 0.6272\n",
      "Epoch 43/200\n",
      "11984/11984 [==============================] - 0s 38us/step - loss: 0.6463 - accuracy: 0.6154 - val_loss: 0.6401 - val_accuracy: 0.6343\n",
      "Epoch 44/200\n",
      "11984/11984 [==============================] - 1s 44us/step - loss: 0.6458 - accuracy: 0.6196 - val_loss: 0.6417 - val_accuracy: 0.6263\n",
      "Epoch 45/200\n",
      "11984/11984 [==============================] - 1s 46us/step - loss: 0.6456 - accuracy: 0.6164 - val_loss: 0.6424 - val_accuracy: 0.6325\n",
      "Epoch 46/200\n",
      "11984/11984 [==============================] - 1s 43us/step - loss: 0.6459 - accuracy: 0.6212 - val_loss: 0.6460 - val_accuracy: 0.6258\n",
      "Epoch 47/200\n",
      "11984/11984 [==============================] - 0s 39us/step - loss: 0.6464 - accuracy: 0.6210 - val_loss: 0.6457 - val_accuracy: 0.6200\n",
      "Epoch 48/200\n",
      "11984/11984 [==============================] - 0s 38us/step - loss: 0.6460 - accuracy: 0.6207 - val_loss: 0.6409 - val_accuracy: 0.6385\n",
      "Epoch 49/200\n",
      "11984/11984 [==============================] - 0s 40us/step - loss: 0.6459 - accuracy: 0.6196 - val_loss: 0.6423 - val_accuracy: 0.6337\n",
      "Epoch 50/200\n",
      "11984/11984 [==============================] - 0s 40us/step - loss: 0.6456 - accuracy: 0.6176 - val_loss: 0.6419 - val_accuracy: 0.6297\n",
      "Epoch 51/200\n"
     ]
    },
    {
     "name": "stdout",
     "output_type": "stream",
     "text": [
      "11984/11984 [==============================] - 0s 34us/step - loss: 0.6450 - accuracy: 0.6189 - val_loss: 0.6413 - val_accuracy: 0.6303\n",
      "Epoch 52/200\n",
      "11984/11984 [==============================] - 0s 37us/step - loss: 0.6457 - accuracy: 0.6211 - val_loss: 0.6404 - val_accuracy: 0.6365\n",
      "Epoch 53/200\n",
      "11984/11984 [==============================] - 0s 38us/step - loss: 0.6451 - accuracy: 0.6247 - val_loss: 0.6401 - val_accuracy: 0.6337\n",
      "Epoch 54/200\n",
      "11984/11984 [==============================] - 0s 38us/step - loss: 0.6452 - accuracy: 0.6197 - val_loss: 0.6426 - val_accuracy: 0.6248\n",
      "Epoch 55/200\n",
      "11984/11984 [==============================] - 0s 40us/step - loss: 0.6462 - accuracy: 0.6212 - val_loss: 0.6422 - val_accuracy: 0.6338\n",
      "Epoch 56/200\n",
      "11984/11984 [==============================] - 0s 35us/step - loss: 0.6458 - accuracy: 0.6222 - val_loss: 0.6425 - val_accuracy: 0.6328\n",
      "Epoch 57/200\n",
      "11984/11984 [==============================] - 0s 40us/step - loss: 0.6457 - accuracy: 0.6232 - val_loss: 0.6431 - val_accuracy: 0.6302\n",
      "Epoch 58/200\n",
      "11984/11984 [==============================] - 0s 40us/step - loss: 0.6456 - accuracy: 0.6212 - val_loss: 0.6483 - val_accuracy: 0.6253\n",
      "Epoch 59/200\n",
      "11984/11984 [==============================] - 0s 39us/step - loss: 0.6455 - accuracy: 0.6222 - val_loss: 0.6432 - val_accuracy: 0.6293\n",
      "Epoch 60/200\n",
      "11984/11984 [==============================] - 0s 39us/step - loss: 0.6458 - accuracy: 0.6208 - val_loss: 0.6410 - val_accuracy: 0.6362\n",
      "Epoch 61/200\n",
      "11984/11984 [==============================] - 0s 40us/step - loss: 0.6444 - accuracy: 0.6214 - val_loss: 0.6443 - val_accuracy: 0.6377\n",
      "Epoch 62/200\n",
      "11984/11984 [==============================] - 1s 46us/step - loss: 0.6447 - accuracy: 0.6218 - val_loss: 0.6402 - val_accuracy: 0.6347\n",
      "Epoch 63/200\n",
      "11984/11984 [==============================] - 0s 38us/step - loss: 0.6445 - accuracy: 0.6243 - val_loss: 0.6440 - val_accuracy: 0.6163\n",
      "Epoch 64/200\n",
      "11984/11984 [==============================] - 0s 38us/step - loss: 0.6450 - accuracy: 0.6223 - val_loss: 0.6414 - val_accuracy: 0.6345\n",
      "Epoch 65/200\n",
      "11984/11984 [==============================] - 0s 37us/step - loss: 0.6450 - accuracy: 0.6187 - val_loss: 0.6421 - val_accuracy: 0.6260\n",
      "Epoch 66/200\n",
      "11984/11984 [==============================] - 0s 36us/step - loss: 0.6453 - accuracy: 0.6221 - val_loss: 0.6399 - val_accuracy: 0.6272\n",
      "Epoch 67/200\n",
      "11984/11984 [==============================] - 0s 37us/step - loss: 0.6447 - accuracy: 0.6265 - val_loss: 0.6466 - val_accuracy: 0.6101\n",
      "Epoch 68/200\n",
      "11984/11984 [==============================] - 0s 35us/step - loss: 0.6451 - accuracy: 0.6205 - val_loss: 0.6425 - val_accuracy: 0.6233\n",
      "Epoch 69/200\n",
      "11984/11984 [==============================] - 0s 35us/step - loss: 0.6443 - accuracy: 0.6223 - val_loss: 0.6418 - val_accuracy: 0.6287\n",
      "Epoch 70/200\n",
      "11984/11984 [==============================] - 0s 36us/step - loss: 0.6448 - accuracy: 0.6290 - val_loss: 0.6403 - val_accuracy: 0.6285\n",
      "Epoch 71/200\n",
      "11984/11984 [==============================] - 0s 36us/step - loss: 0.6438 - accuracy: 0.6239 - val_loss: 0.6392 - val_accuracy: 0.6397\n",
      "Epoch 72/200\n",
      "11984/11984 [==============================] - 0s 36us/step - loss: 0.6454 - accuracy: 0.6264 - val_loss: 0.6403 - val_accuracy: 0.6372\n",
      "Epoch 73/200\n",
      "11984/11984 [==============================] - 0s 36us/step - loss: 0.6446 - accuracy: 0.6198 - val_loss: 0.6380 - val_accuracy: 0.6345\n",
      "Epoch 74/200\n",
      "11984/11984 [==============================] - 0s 37us/step - loss: 0.6445 - accuracy: 0.6261 - val_loss: 0.6402 - val_accuracy: 0.6333\n",
      "Epoch 75/200\n",
      "11984/11984 [==============================] - 0s 40us/step - loss: 0.6440 - accuracy: 0.6270 - val_loss: 0.6410 - val_accuracy: 0.6358\n",
      "Epoch 76/200\n",
      "11984/11984 [==============================] - 0s 37us/step - loss: 0.6444 - accuracy: 0.6264 - val_loss: 0.6421 - val_accuracy: 0.6283\n",
      "Epoch 77/200\n",
      "11984/11984 [==============================] - 0s 37us/step - loss: 0.6443 - accuracy: 0.6257 - val_loss: 0.6409 - val_accuracy: 0.6355\n",
      "Epoch 78/200\n",
      "11984/11984 [==============================] - 0s 36us/step - loss: 0.6453 - accuracy: 0.6254 - val_loss: 0.6486 - val_accuracy: 0.6288\n",
      "Epoch 79/200\n",
      "11984/11984 [==============================] - 0s 37us/step - loss: 0.6443 - accuracy: 0.6234 - val_loss: 0.6405 - val_accuracy: 0.6343\n",
      "Epoch 80/200\n",
      "11984/11984 [==============================] - 0s 41us/step - loss: 0.6440 - accuracy: 0.6251 - val_loss: 0.6472 - val_accuracy: 0.6233\n",
      "Epoch 81/200\n",
      "11984/11984 [==============================] - 1s 49us/step - loss: 0.6444 - accuracy: 0.6264 - val_loss: 0.6402 - val_accuracy: 0.6357\n",
      "Epoch 82/200\n",
      "11984/11984 [==============================] - 1s 44us/step - loss: 0.6451 - accuracy: 0.6230 - val_loss: 0.6381 - val_accuracy: 0.6457\n",
      "Epoch 83/200\n",
      "11984/11984 [==============================] - 1s 42us/step - loss: 0.6437 - accuracy: 0.6251 - val_loss: 0.6377 - val_accuracy: 0.6392\n",
      "Epoch 84/200\n",
      "11984/11984 [==============================] - 0s 41us/step - loss: 0.6439 - accuracy: 0.6295 - val_loss: 0.6393 - val_accuracy: 0.6445\n",
      "Epoch 85/200\n",
      "11984/11984 [==============================] - 1s 45us/step - loss: 0.6440 - accuracy: 0.6243 - val_loss: 0.6388 - val_accuracy: 0.6380\n",
      "Epoch 86/200\n",
      "11984/11984 [==============================] - 1s 43us/step - loss: 0.6445 - accuracy: 0.6245 - val_loss: 0.6446 - val_accuracy: 0.6225\n",
      "Epoch 87/200\n",
      "11984/11984 [==============================] - 1s 43us/step - loss: 0.6445 - accuracy: 0.6254 - val_loss: 0.6394 - val_accuracy: 0.6415\n",
      "Epoch 88/200\n",
      "11984/11984 [==============================] - 0s 36us/step - loss: 0.6443 - accuracy: 0.6255 - val_loss: 0.6403 - val_accuracy: 0.6337\n",
      "Epoch 89/200\n",
      "11984/11984 [==============================] - 0s 36us/step - loss: 0.6439 - accuracy: 0.6276 - val_loss: 0.6403 - val_accuracy: 0.6368\n",
      "Epoch 90/200\n",
      " 5088/11984 [===========>..................] - ETA: 0s - loss: 0.6474 - accuracy: 0.6249"
     ]
    }
   ],
   "source": [
    "# create model\n",
    "model = Sequential()\n",
    "model.add(Dense(500, input_dim=14))\n",
    "model.add(Dense(200, activation='relu'))\n",
    "model.add(Dense(200, activation='tanh'))\n",
    "model.add(Dense(2, activation='sigmoid'))\n",
    "print(model.summary())\n",
    "\n",
    "model.compile(loss='binary_crossentropy', optimizer='adam', metrics=['accuracy'])\n",
    "model.fit(x=xTrain, y=yTrain,epochs=200,batch_size=32, validation_data=(xTest,yTest))\n",
    "\n",
    "score, acc = model.evaluate(x=xTest, y=yTest)\n",
    "# print(model.predict(xTest))\n",
    "\n",
    "print('Accuracy: ',100*(acc))"
   ]
  },
  {
   "cell_type": "code",
   "execution_count": 7,
   "metadata": {},
   "outputs": [],
   "source": [
    "# save the model\n",
    "model.save('data/eeg_eye_state.h5')"
   ]
  },
  {
   "cell_type": "markdown",
   "metadata": {},
   "source": [
    "<h2>Conclusion</h2>\n",
    "<p>\n",
    "    In all it is safe to say that EEG data is very complex, but it is trainable. There is a lot that goes into gathering EEG data, namely the position of the nodes. In this conclusion I was able to reach a 93.858% accuracy on the given data set.\n",
    "</p>"
   ]
  },
  {
   "cell_type": "markdown",
   "metadata": {},
   "source": [
    "<h2>Sources</h2>\n",
    "<ul>\n",
    "    <li>https://www.dana.org/article/neuroanatomy-the-basics/</li>\n",
    "</ul>"
   ]
  }
 ],
 "metadata": {
  "file_extension": ".py",
  "kernelspec": {
   "display_name": "Python 3",
   "language": "python",
   "name": "python3"
  },
  "language_info": {
   "codemirror_mode": {
    "name": "ipython",
    "version": 3
   },
   "file_extension": ".py",
   "mimetype": "text/x-python",
   "name": "python",
   "nbconvert_exporter": "python",
   "pygments_lexer": "ipython3",
   "version": "3.7.6"
  },
  "mimetype": "text/x-python",
  "name": "python",
  "npconvert_exporter": "python",
  "pygments_lexer": "ipython3",
  "version": 3,
  "widgets": {
   "application/vnd.jupyter.widget-state+json": {
    "state": {},
    "version_major": 2,
    "version_minor": 0
   }
  }
 },
 "nbformat": 4,
 "nbformat_minor": 2
}
