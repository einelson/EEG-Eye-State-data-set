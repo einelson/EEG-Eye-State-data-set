{
 "cells": [
  {
   "cell_type": "markdown",
   "metadata": {},
   "source": [
    "<h1>Machine learning using Neural networks to predict eye state data</h1>\n",
    "<p>\n",
    "The purpose of this project is to get more familiar with an eeg dataset and learn more about data manipulation. The dataset is slipt into 15 differents columns with the last being the target values (0,1). The target values represent the state of the eye, being open or closed. The other data represents the value of an eeg node which gets the value of the electrical activity in that sector surrounding the node.<br>\n",
    "This dataset is located in the UCI database found <a href='https://archive.ics.uci.edu/ml/datasets/EEG+Eye+State'>here</a>\n",
    "</p>"
   ]
  },
  {
   "cell_type": "markdown",
   "metadata": {},
   "source": [
    "<h2>The purpose of the nodes and locations</h2>\n",
    "<p>The nodes used in this dataset are located in the red filled nodes shown below in Figure 1.</p>\n",
    "<img src='data/eeg_eye_state_map.png' alt='eeg_eye_state_map'>Figure 1 <br>Source: https://www.researchgate.net/figure/Surface-map-of-EEG-electrode-locations_fig34_230864997</img>"
   ]
  },
  {
   "cell_type": "markdown",
   "metadata": {},
   "source": [
    "<h2>The purpose of the node locations</h2>\n",
    "<p>The node locations are placed uniformly on the scalp in order to get the maximum coverage of the brain with the most uniform data. The barin is composed of different reigons, namely the:\n",
    "    <ul>\n",
    "        <li>Occipital lobe: Visual area, sight, image recoginition</li>\n",
    "        <li>Temporal lobe: Association area, short term memory, emotion</li>\n",
    "        <li>Parential lobe: Motor function, voluntary muscles</li>\n",
    "        <li>Frontal lobe: Brocas area, muscles of speech</li>\n",
    "        <li>Temporal lobe: Auditory area, hearing</li>\n",
    "        <li>[name]: Emotional area, pain, hunger, 'flight or fight'</li>\n",
    "        <li>Pariental lobe: Sensory association</li>\n",
    "        <li>Frontal lobe: Oilfactory, smelling</li>\n",
    "        <li>Pariental lobe: Sensory area, sensation grom skin and muscles</li>\n",
    "        <li>Pariental lobe: Somatosensory association, evaluation of weight, temperature, texture (object recognition)</li>\n",
    "        <li>Temporal lobe: Wernicke's area, Written and spoken language comprehension</li>\n",
    "        <li>Cerebral Cortex: Motor function, eye movement and orientation</li>\n",
    "        <li>Frontal lobe: Higher mental functions, concentration, planning, judgement, emotional expression, creativity, inhibition</li>\n",
    "        <li>Cerebellum: Motor functions, balance, equilibrium, posture, coordination of movement</li>\n",
    "    </ul>\n",
    "    The data above can be visualized in Figure 2.\n",
    "</p>\n",
    "<img src='data/anatomy-function-brain-areas-basics-large.jpg' alt='Brain location map'>\n",
    "Figure 2<br>Source: https://www.dana.org/wp-content/uploads/2019/08/anatomy-function-brain-areas-basics-large.jpg</img>\n",
    "<p>By looking at the node locations in this experiment and comparing with the lobe location and function we can see why these certain locations were picked.\n",
    "    <ul>\n",
    "        <li>AF3/AF4: Frontal lobe- Higher mental functions</li>\n",
    "        <li>F3/F4: Frontal lobe- Higher mental functions</li>\n",
    "        <li>F7/F8: Inferior Frontal/Brocas- Functions of Speech</li>\n",
    "        <li>FC5/FC8: Cerebral Cortex-Motor functions <strong>eye movement/ orientation</strong></li>\n",
    "        <li>T7/T8: Temporal lobe- Short term memory/emotion</li>\n",
    "        <li>P7/P8: Posterior Temporal- Hearing, speech <strong>visual</strong> recoginition</li>\n",
    "        <li>O1/O2: Occipital lobe- <strong>Visual, sight, image recognition</strong></li>\n",
    "    </ul>\n",
    "</p>"
   ]
  },
  {
   "cell_type": "markdown",
   "metadata": {},
   "source": [
    "<h2>Code: EEG eye-state prediction</h2>"
   ]
  },
  {
   "cell_type": "code",
   "execution_count": 1,
   "metadata": {},
   "outputs": [
    {
     "name": "stderr",
     "output_type": "stream",
     "text": [
      "Using TensorFlow backend.\n"
     ]
    }
   ],
   "source": [
    "# import libraries\n",
    "import numpy as np\n",
    "import pandas as pd\n",
    "from scipy.io.arff import loadarff\n",
    "from scipy import stats\n",
    "\n",
    "from keras.utils import normalize\n",
    "from keras.utils import np_utils\n",
    "from keras.models import Sequential\n",
    "from keras.layers import Dense, Activation, Dropout\n",
    "from keras.optimizers import Adam\n",
    "\n",
    "from sklearn.model_selection import train_test_split\n",
    "from sklearn.metrics import accuracy_score\n",
    "from sklearn.preprocessing import StandardScaler\n"
   ]
  },
  {
   "cell_type": "code",
   "execution_count": 2,
   "metadata": {
    "scrolled": true
   },
   "outputs": [],
   "source": [
    "# Load in the data frame\n",
    "raw_data = loadarff('data/EEG Eye State.arff')\n",
    "df_data = pd.DataFrame(raw_data[0])\n",
    "# df_data.head()"
   ]
  },
  {
   "cell_type": "markdown",
   "metadata": {},
   "source": [
    "<p>In order to pre-process the data I split the data into two sets, The data and the targets. Next I normalized by z-score to make the data more manageable and easier to learn.<br>The targets here are 1 or 0, meaning is the eye open or closed?</p>"
   ]
  },
  {
   "cell_type": "code",
   "execution_count": 3,
   "metadata": {},
   "outputs": [],
   "source": [
    "# Preprocess Data\n",
    "# split into data and targets\n",
    "data_targets=df_data.iloc[:,-1]\n",
    "data=df_data.iloc[:,:-1]\n",
    "\n",
    "# data normalization with sklearn z-score\n",
    "scaler = StandardScaler()\n",
    "scaler.fit(data)\n",
    "data = scaler.transform(data)\n",
    "\n",
    "# convert targets into 1 or 0\n",
    "data_targets=np_utils.to_categorical(data_targets, num_classes=2)"
   ]
  },
  {
   "cell_type": "markdown",
   "metadata": {},
   "source": [
    "<p>In order to split into training and test data I use the method train_test_split() which randomizes the data while splitting it into a training and testing data set. The data is split into 80% training and 20% testing and validation.</p>"
   ]
  },
  {
   "cell_type": "code",
   "execution_count": 4,
   "metadata": {
    "scrolled": true
   },
   "outputs": [],
   "source": [
    "# split the data\n",
    "xTrain, xTest, yTrain, yTest = train_test_split(data, data_targets, test_size = 0.2)\n",
    "# print(xTrain, yTrain)"
   ]
  },
  {
   "cell_type": "markdown",
   "metadata": {},
   "source": [
    "<h2>Basic classification</h2>\n",
    "<p>This is the creation of the model.<br>\n",
    "The model is split into 4 layers with two being the hidden layers. The goal here is to make a network that can accurately predict the satet of the eye, being 0 or 1.<br>\n",
    "model.add(Dense(500, activation='relu', input_dim=14))\n",
    "model.add(Dense(200, activation='relu'))\n",
    "model.add(Dense(150, activation='tanh'))\n",
    "model.add(Dense(2, activation='sigmoid')) 91.69<br>\n",
    "The layers [200, 150, 50, 2] with the batch size 32 and 50 apochs gives us an accuracy rate of 90.8%.</p>"
   ]
  },
  {
   "cell_type": "code",
   "execution_count": 20,
   "metadata": {
    "scrolled": true
   },
   "outputs": [
    {
     "name": "stdout",
     "output_type": "stream",
     "text": [
      "Model: \"sequential_16\"\n",
      "_________________________________________________________________\n",
      "Layer (type)                 Output Shape              Param #   \n",
      "=================================================================\n",
      "dense_61 (Dense)             (None, 500)               7500      \n",
      "_________________________________________________________________\n",
      "dense_62 (Dense)             (None, 200)               100200    \n",
      "_________________________________________________________________\n",
      "dense_63 (Dense)             (None, 200)               40200     \n",
      "_________________________________________________________________\n",
      "dense_64 (Dense)             (None, 2)                 402       \n",
      "=================================================================\n",
      "Total params: 148,302\n",
      "Trainable params: 148,302\n",
      "Non-trainable params: 0\n",
      "_________________________________________________________________\n",
      "None\n",
      "Train on 11984 samples, validate on 2996 samples\n",
      "Epoch 1/50\n",
      "11984/11984 [==============================] - 4s 354us/step - loss: 0.5912 - accuracy: 0.6590 - val_loss: 0.5292 - val_accuracy: 0.7225\n",
      "Epoch 2/50\n",
      "11984/11984 [==============================] - 3s 244us/step - loss: 0.4654 - accuracy: 0.7724 - val_loss: 0.4387 - val_accuracy: 0.7779\n",
      "Epoch 3/50\n",
      "11984/11984 [==============================] - 3s 250us/step - loss: 0.4187 - accuracy: 0.8030 - val_loss: 0.4107 - val_accuracy: 0.7977\n",
      "Epoch 4/50\n",
      "11984/11984 [==============================] - 3s 245us/step - loss: 0.3855 - accuracy: 0.8197 - val_loss: 0.4013 - val_accuracy: 0.8092\n",
      "Epoch 5/50\n",
      "11984/11984 [==============================] - 3s 239us/step - loss: 0.3648 - accuracy: 0.8324 - val_loss: 0.3950 - val_accuracy: 0.8128\n",
      "Epoch 6/50\n",
      "11984/11984 [==============================] - 3s 245us/step - loss: 0.3479 - accuracy: 0.8374 - val_loss: 0.3860 - val_accuracy: 0.8211\n",
      "Epoch 7/50\n",
      "11984/11984 [==============================] - 3s 267us/step - loss: 0.3256 - accuracy: 0.8515 - val_loss: 0.3528 - val_accuracy: 0.8338\n",
      "Epoch 8/50\n",
      "11984/11984 [==============================] - 3s 246us/step - loss: 0.3076 - accuracy: 0.8621 - val_loss: 0.3186 - val_accuracy: 0.8538\n",
      "Epoch 9/50\n",
      "11984/11984 [==============================] - 3s 243us/step - loss: 0.2908 - accuracy: 0.8713 - val_loss: 0.3729 - val_accuracy: 0.8433\n",
      "Epoch 10/50\n",
      "11984/11984 [==============================] - 3s 247us/step - loss: 0.2780 - accuracy: 0.8771 - val_loss: 0.3115 - val_accuracy: 0.8645\n",
      "Epoch 11/50\n",
      "11984/11984 [==============================] - 3s 250us/step - loss: 0.2599 - accuracy: 0.8859 - val_loss: 0.3008 - val_accuracy: 0.8690\n",
      "Epoch 12/50\n",
      "11984/11984 [==============================] - 3s 247us/step - loss: 0.2495 - accuracy: 0.8927 - val_loss: 0.3122 - val_accuracy: 0.8637\n",
      "Epoch 13/50\n",
      "11984/11984 [==============================] - 3s 280us/step - loss: 0.2428 - accuracy: 0.8930 - val_loss: 0.2763 - val_accuracy: 0.8775\n",
      "Epoch 14/50\n",
      "11984/11984 [==============================] - 6s 539us/step - loss: 0.2309 - accuracy: 0.8998 - val_loss: 0.2919 - val_accuracy: 0.8717\n",
      "Epoch 15/50\n",
      "11984/11984 [==============================] - 4s 355us/step - loss: 0.2191 - accuracy: 0.9074 - val_loss: 0.2778 - val_accuracy: 0.8833\n",
      "Epoch 16/50\n",
      "11984/11984 [==============================] - 4s 308us/step - loss: 0.2150 - accuracy: 0.9082 - val_loss: 0.2915 - val_accuracy: 0.8758\n",
      "Epoch 17/50\n",
      "11984/11984 [==============================] - 4s 324us/step - loss: 0.1996 - accuracy: 0.9156 - val_loss: 0.2711 - val_accuracy: 0.8825\n",
      "Epoch 18/50\n",
      "11984/11984 [==============================] - 3s 263us/step - loss: 0.1953 - accuracy: 0.9166 - val_loss: 0.2741 - val_accuracy: 0.8783\n",
      "Epoch 19/50\n",
      "11984/11984 [==============================] - 3s 252us/step - loss: 0.1916 - accuracy: 0.9196 - val_loss: 0.2620 - val_accuracy: 0.8855\n",
      "Epoch 20/50\n",
      "11984/11984 [==============================] - 3s 253us/step - loss: 0.1772 - accuracy: 0.9263 - val_loss: 0.2409 - val_accuracy: 0.9000\n",
      "Epoch 21/50\n",
      "11984/11984 [==============================] - 3s 268us/step - loss: 0.1731 - accuracy: 0.9268 - val_loss: 0.3068 - val_accuracy: 0.8817\n",
      "Epoch 22/50\n",
      "11984/11984 [==============================] - 3s 288us/step - loss: 0.1674 - accuracy: 0.9294 - val_loss: 0.2657 - val_accuracy: 0.8825\n",
      "Epoch 23/50\n",
      "11984/11984 [==============================] - 3s 260us/step - loss: 0.1576 - accuracy: 0.9350 - val_loss: 0.2838 - val_accuracy: 0.8855\n",
      "Epoch 24/50\n",
      "11984/11984 [==============================] - 3s 262us/step - loss: 0.1579 - accuracy: 0.9350 - val_loss: 0.2828 - val_accuracy: 0.8845\n",
      "Epoch 25/50\n",
      "11984/11984 [==============================] - 3s 258us/step - loss: 0.1580 - accuracy: 0.9349 - val_loss: 0.2685 - val_accuracy: 0.8907\n",
      "Epoch 26/50\n",
      "11984/11984 [==============================] - 3s 256us/step - loss: 0.1431 - accuracy: 0.9434 - val_loss: 0.2858 - val_accuracy: 0.8855\n",
      "Epoch 27/50\n",
      "11984/11984 [==============================] - 3s 261us/step - loss: 0.1455 - accuracy: 0.9420 - val_loss: 0.2290 - val_accuracy: 0.9097\n",
      "Epoch 28/50\n",
      "11984/11984 [==============================] - 3s 264us/step - loss: 0.1316 - accuracy: 0.9462 - val_loss: 0.2426 - val_accuracy: 0.9020\n",
      "Epoch 29/50\n",
      "11984/11984 [==============================] - 3s 268us/step - loss: 0.1325 - accuracy: 0.9455 - val_loss: 0.2571 - val_accuracy: 0.9014\n",
      "Epoch 30/50\n",
      "11984/11984 [==============================] - 3s 266us/step - loss: 0.1312 - accuracy: 0.9458 - val_loss: 0.2364 - val_accuracy: 0.9029\n",
      "Epoch 31/50\n",
      "11984/11984 [==============================] - 3s 262us/step - loss: 0.1170 - accuracy: 0.9537 - val_loss: 0.2876 - val_accuracy: 0.8967\n",
      "Epoch 32/50\n",
      "11984/11984 [==============================] - 3s 272us/step - loss: 0.1218 - accuracy: 0.9529 - val_loss: 0.3344 - val_accuracy: 0.8825\n",
      "Epoch 33/50\n",
      "11984/11984 [==============================] - 3s 268us/step - loss: 0.1246 - accuracy: 0.9497 - val_loss: 0.2646 - val_accuracy: 0.9012\n",
      "Epoch 34/50\n",
      "11984/11984 [==============================] - 4s 293us/step - loss: 0.1166 - accuracy: 0.9531 - val_loss: 0.2492 - val_accuracy: 0.9035\n",
      "Epoch 35/50\n",
      "11984/11984 [==============================] - 3s 267us/step - loss: 0.1072 - accuracy: 0.9568 - val_loss: 0.2688 - val_accuracy: 0.8980\n",
      "Epoch 36/50\n",
      "11984/11984 [==============================] - 3s 274us/step - loss: 0.1124 - accuracy: 0.9577 - val_loss: 0.2599 - val_accuracy: 0.9032\n",
      "Epoch 37/50\n",
      "11984/11984 [==============================] - 4s 306us/step - loss: 0.1110 - accuracy: 0.9557 - val_loss: 0.2743 - val_accuracy: 0.9035\n",
      "Epoch 38/50\n",
      "11984/11984 [==============================] - 3s 263us/step - loss: 0.1038 - accuracy: 0.9603 - val_loss: 0.2442 - val_accuracy: 0.9129\n",
      "Epoch 39/50\n",
      "11984/11984 [==============================] - 3s 275us/step - loss: 0.0981 - accuracy: 0.9626 - val_loss: 0.2496 - val_accuracy: 0.9074\n",
      "Epoch 40/50\n",
      "11984/11984 [==============================] - 3s 261us/step - loss: 0.1003 - accuracy: 0.9623 - val_loss: 0.2476 - val_accuracy: 0.9154\n",
      "Epoch 41/50\n",
      "11984/11984 [==============================] - 3s 269us/step - loss: 0.0994 - accuracy: 0.9612 - val_loss: 0.2563 - val_accuracy: 0.9034\n",
      "Epoch 42/50\n",
      "11984/11984 [==============================] - 3s 267us/step - loss: 0.0958 - accuracy: 0.9627 - val_loss: 0.2574 - val_accuracy: 0.9100\n",
      "Epoch 43/50\n",
      "11984/11984 [==============================] - 3s 288us/step - loss: 0.0876 - accuracy: 0.9662 - val_loss: 0.2827 - val_accuracy: 0.9044\n",
      "Epoch 44/50\n",
      "11984/11984 [==============================] - 3s 270us/step - loss: 0.0879 - accuracy: 0.9675 - val_loss: 0.2692 - val_accuracy: 0.9089\n",
      "Epoch 45/50\n",
      "11984/11984 [==============================] - 3s 277us/step - loss: 0.0824 - accuracy: 0.9683 - val_loss: 0.2976 - val_accuracy: 0.8995\n",
      "Epoch 46/50\n",
      "11984/11984 [==============================] - 3s 272us/step - loss: 0.0946 - accuracy: 0.9651 - val_loss: 0.2517 - val_accuracy: 0.9092\n",
      "Epoch 47/50\n",
      "11984/11984 [==============================] - 3s 273us/step - loss: 0.0795 - accuracy: 0.9709 - val_loss: 0.2553 - val_accuracy: 0.9120\n",
      "Epoch 48/50\n",
      "11984/11984 [==============================] - 3s 279us/step - loss: 0.0855 - accuracy: 0.9688 - val_loss: 0.2858 - val_accuracy: 0.9102\n",
      "Epoch 49/50\n",
      "11984/11984 [==============================] - 4s 323us/step - loss: 0.0825 - accuracy: 0.9675 - val_loss: 0.2823 - val_accuracy: 0.9104\n"
     ]
    },
    {
     "name": "stdout",
     "output_type": "stream",
     "text": [
      "Epoch 50/50\n",
      "11984/11984 [==============================] - 3s 271us/step - loss: 0.0770 - accuracy: 0.9706 - val_loss: 0.2943 - val_accuracy: 0.9020\n",
      "2996/2996 [==============================] - 0s 96us/step\n",
      "Accuracy:  90.20360708236694\n"
     ]
    }
   ],
   "source": [
    "# create model\n",
    "model = Sequential()\n",
    "model.add(Dense(500, activation='relu', input_dim=14))\n",
    "model.add(Dense(200, activation='relu'))\n",
    "model.add(Dense(200, activation='tanh'))\n",
    "model.add(Dense(2, activation='sigmoid'))\n",
    "print(model.summary())\n",
    "\n",
    "model.compile(loss='binary_crossentropy', optimizer='adam', metrics=['accuracy'])\n",
    "model.fit(x=xTrain, y=yTrain,epochs=50,batch_size=32, validation_data=(xTest,yTest))\n",
    "\n",
    "score, acc = model.evaluate(x=xTest, y=yTest)\n",
    "# print(model.predict(xTest))\n",
    "\n",
    "print('Accuracy: ',100*(acc))"
   ]
  },
  {
   "cell_type": "markdown",
   "metadata": {},
   "source": [
    "<h2>CNN based classification</h2>"
   ]
  },
  {
   "cell_type": "markdown",
   "metadata": {},
   "source": [
    "<h2>Sources</h2>\n",
    "<ul>\n",
    "    <li>https://www.dana.org/article/neuroanatomy-the-basics/</li>\n",
    "</ul>"
   ]
  }
 ],
 "metadata": {
  "file_extension": ".py",
  "kernelspec": {
   "display_name": "Python 3",
   "language": "python",
   "name": "python3"
  },
  "language_info": {
   "codemirror_mode": {
    "name": "ipython",
    "version": 3
   },
   "file_extension": ".py",
   "mimetype": "text/x-python",
   "name": "python",
   "nbconvert_exporter": "python",
   "pygments_lexer": "ipython3",
   "version": "3.7.6"
  },
  "mimetype": "text/x-python",
  "name": "python",
  "npconvert_exporter": "python",
  "pygments_lexer": "ipython3",
  "version": 3,
  "widgets": {
   "application/vnd.jupyter.widget-state+json": {
    "state": {},
    "version_major": 2,
    "version_minor": 0
   }
  }
 },
 "nbformat": 4,
 "nbformat_minor": 2
}
