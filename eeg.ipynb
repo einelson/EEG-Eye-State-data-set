{
 "cells": [
  {
   "cell_type": "markdown",
   "metadata": {},
   "source": [
    "<h1>Machine learning using Neural networks to predict eye state data</h1>\n",
    "<p>\n",
    "The purpose of this project is to get more familiar with an eeg dataset and learn more about data manipulation. The dataset is slipt into 15 differents columns with the last being the target values (0,1). The target values represent the state of the eye, being open or closed. The other data represents the value of an eeg node which gets the value of the electrical activity in that sector surrounding the node.<br>\n",
    "This dataset is located in the UCI database found <a href='https://archive.ics.uci.edu/ml/datasets/EEG+Eye+State'>here</a>\n",
    "</p>"
   ]
  },
  {
   "cell_type": "markdown",
   "metadata": {},
   "source": [
    "<h2>The purpose of the nodes and locations</h2>\n",
    "<p>The nodes used in this dataset are located in the red filled nodes shown below in Figure 1.</p>\n",
    "<img src='data/eeg_eye_state_map.png' alt='eeg_eye_state_map'>Figure 1 <br>Source: https://www.researchgate.net/figure/Surface-map-of-EEG-electrode-locations_fig34_230864997</img>"
   ]
  },
  {
   "cell_type": "markdown",
   "metadata": {},
   "source": [
    "<h2>The purpose of the node locations</h2>\n",
    "<p>The node locations are placed uniformly on the scalp in order to get the maximum coverage of the brain with the most uniform data. The barin is composed of different reigons, namely the:\n",
    "    <ul>\n",
    "        <li>Occipital lobe: Visual area, sight, image recoginition</li>\n",
    "        <li>Temporal lobe: Association area, short term memory, emotion</li>\n",
    "        <li>Parential lobe: Motor function, voluntary muscles</li>\n",
    "        <li>Frontal lobe: Brocas area, muscles of speech</li>\n",
    "        <li>Temporal lobe: Auditory area, hearing</li>\n",
    "        <li>[name]: Emotional area, pain, hunger, 'flight or fight'</li>\n",
    "        <li>Pariental lobe: Sensory association</li>\n",
    "        <li>Frontal lobe: Oilfactory, smelling</li>\n",
    "        <li>Pariental lobe: Sensory area, sensation grom skin and muscles</li>\n",
    "        <li>Pariental lobe: Somatosensory association, evaluation of weight, temperature, texture (object recognition)</li>\n",
    "        <li>Temporal lobe: Wernicke's area, Written and spoken language comprehension</li>\n",
    "        <li>Cerebral Cortex: Motor function, eye movement and orientation</li>\n",
    "        <li>Frontal lobe: Higher mental functions, concentration, planning, judgement, emotional expression, creativity, inhibition</li>\n",
    "        <li>Cerebellum: Motor functions, balance, equilibrium, posture, coordination of movement</li>\n",
    "    </ul>\n",
    "    The data above can be visualized in Figure 2.\n",
    "</p>\n",
    "<img src='data/anatomy-function-brain-areas-basics-large.jpg' alt='Brain location map'>\n",
    "Figure 2<br>Source: https://www.dana.org/wp-content/uploads/2019/08/anatomy-function-brain-areas-basics-large.jpg</img>\n",
    "<p>By looking at the node locations in this experiment and comparing with the lobe location and function we can see why these certain locations were picked.\n",
    "    <ul>\n",
    "        <li>AF3/AF4: Frontal lobe- Higher mental functions</li>\n",
    "        <li>F3/F4: Frontal lobe- Higher mental functions</li>\n",
    "        <li>F7/F8: Inferior Frontal/Brocas- Functions of Speech</li>\n",
    "        <li>FC5/FC8: Cerebral Cortex-Motor functions <strong>eye movement/ orientation</strong></li>\n",
    "        <li>T7/T8: Temporal lobe- Short term memory/emotion</li>\n",
    "        <li>P7/P8: Posterior Temporal- Hearing, speech <strong>visual</strong> recoginition</li>\n",
    "        <li>O1/O2: Occipital lobe- <strong>Visual, sight, image recognition</strong></li>\n",
    "    </ul>\n",
    "</p>"
   ]
  },
  {
   "cell_type": "markdown",
   "metadata": {},
   "source": [
    "<h2>Code: EEG eye-state prediction</h2>"
   ]
  },
  {
   "cell_type": "code",
   "execution_count": 1,
   "metadata": {},
   "outputs": [
    {
     "name": "stderr",
     "output_type": "stream",
     "text": [
      "Using TensorFlow backend.\n"
     ]
    }
   ],
   "source": [
    "# import libraries\n",
    "import numpy as np\n",
    "import pandas as pd\n",
    "from scipy.io.arff import loadarff\n",
    "from scipy import stats\n",
    "\n",
    "from keras.utils import normalize\n",
    "from keras.utils import np_utils\n",
    "from keras.models import Sequential\n",
    "from keras.layers import Dense, Activation, Dropout\n",
    "from keras.optimizers import Adam\n",
    "# from keras.optimizers import SGD\n",
    "\n",
    "from sklearn.model_selection import train_test_split\n",
    "from sklearn.metrics import accuracy_score\n",
    "from sklearn.preprocessing import StandardScaler\n"
   ]
  },
  {
   "cell_type": "code",
   "execution_count": 2,
   "metadata": {
    "scrolled": true
   },
   "outputs": [],
   "source": [
    "# Load in the data frame\n",
    "raw_data = loadarff('data/EEG Eye State.arff')\n",
    "df_data = pd.DataFrame(raw_data[0])\n",
    "# df_data.head()"
   ]
  },
  {
   "cell_type": "markdown",
   "metadata": {},
   "source": [
    "<p>In order to pre-process the data I split the data into two sets, The data and the targets. Next I normalized by z-score to make the data more manageable and easier to learn.<br>The targets here are 1 or 0, meaning is the eye open or closed?</p>"
   ]
  },
  {
   "cell_type": "code",
   "execution_count": 6,
   "metadata": {},
   "outputs": [],
   "source": [
    "# Preprocess Data\n",
    "# split into data and targets\n",
    "data_targets=df_data.iloc[:,-1]\n",
    "data=df_data.iloc[:,:-1]\n",
    "\n",
    "# data normalization with sklearn z-score\n",
    "scaler = StandardScaler()\n",
    "scaler.fit(data)\n",
    "data = scaler.transform(data)\n",
    "\n",
    "# convert targets into 1 or 0\n",
    "data_targets=np_utils.to_categorical(data_targets, num_classes=2)"
   ]
  },
  {
   "cell_type": "markdown",
   "metadata": {},
   "source": [
    "<p>In order to split into training and test data I use the method train_test_split() which randomizes the data while splitting it into a training and testing data set. The data is split into 80% training and 20% testing and validation.</p>"
   ]
  },
  {
   "cell_type": "code",
   "execution_count": 4,
   "metadata": {
    "scrolled": true
   },
   "outputs": [],
   "source": [
    "# split the data\n",
    "xTrain, xTest, yTrain, yTest = train_test_split(data, data_targets, test_size = 0.2)\n",
    "# print(xTrain, yTrain)"
   ]
  },
  {
   "cell_type": "markdown",
   "metadata": {},
   "source": [
    "<p>This is the creation of the model.<br>\n",
    "The model is split into 4 layers with two being the hidden layers. The goal here is to make a network that can accurately predict the satet of the eye, being 0 or 1.<br>\n",
    "The layers [100, 50, 50, 2] with the batch size 32 and 50 epochs gives us an accuracy rate of 88.6%.<br>\n",
    "The layers [200, 150, 50, 2] with the batch size 32 and 50 apochs gives us an accuracy rate of 90.8%.</p>"
   ]
  },
  {
   "cell_type": "code",
   "execution_count": 8,
   "metadata": {
    "scrolled": true
   },
   "outputs": [
    {
     "name": "stdout",
     "output_type": "stream",
     "text": [
      "Model: \"sequential_3\"\n",
      "_________________________________________________________________\n",
      "Layer (type)                 Output Shape              Param #   \n",
      "=================================================================\n",
      "dense_9 (Dense)              (None, 200)               3000      \n",
      "_________________________________________________________________\n",
      "dense_10 (Dense)             (None, 150)               30150     \n",
      "_________________________________________________________________\n",
      "dense_11 (Dense)             (None, 50)                7550      \n",
      "_________________________________________________________________\n",
      "dense_12 (Dense)             (None, 2)                 102       \n",
      "=================================================================\n",
      "Total params: 40,802\n",
      "Trainable params: 40,802\n",
      "Non-trainable params: 0\n",
      "_________________________________________________________________\n",
      "None\n",
      "Train on 11984 samples, validate on 2996 samples\n",
      "Epoch 1/75\n",
      "11984/11984 [==============================] - 3s 259us/step - loss: 0.6244 - accuracy: 0.6421 - val_loss: 0.5954 - val_accuracy: 0.6679\n",
      "Epoch 2/75\n",
      "11984/11984 [==============================] - 2s 176us/step - loss: 0.5247 - accuracy: 0.7308 - val_loss: 0.5149 - val_accuracy: 0.7397\n",
      "Epoch 3/75\n",
      "11984/11984 [==============================] - 2s 172us/step - loss: 0.4873 - accuracy: 0.7647 - val_loss: 0.4643 - val_accuracy: 0.7715\n",
      "Epoch 4/75\n",
      "11984/11984 [==============================] - 2s 171us/step - loss: 0.4296 - accuracy: 0.7957 - val_loss: 0.4178 - val_accuracy: 0.8019\n",
      "Epoch 5/75\n",
      "11984/11984 [==============================] - 2s 203us/step - loss: 0.4106 - accuracy: 0.8017 - val_loss: 0.3956 - val_accuracy: 0.8102\n",
      "Epoch 6/75\n",
      "11984/11984 [==============================] - 2s 177us/step - loss: 0.3892 - accuracy: 0.8175 - val_loss: 0.4003 - val_accuracy: 0.8193\n",
      "Epoch 7/75\n",
      "11984/11984 [==============================] - 2s 173us/step - loss: 0.3743 - accuracy: 0.8243 - val_loss: 0.3663 - val_accuracy: 0.8311\n",
      "Epoch 8/75\n",
      "11984/11984 [==============================] - 2s 181us/step - loss: 0.3549 - accuracy: 0.8359 - val_loss: 0.3591 - val_accuracy: 0.8361\n",
      "Epoch 9/75\n",
      "11984/11984 [==============================] - 2s 182us/step - loss: 0.3398 - accuracy: 0.8445 - val_loss: 0.3600 - val_accuracy: 0.8354\n",
      "Epoch 10/75\n",
      "11984/11984 [==============================] - 2s 190us/step - loss: 0.3296 - accuracy: 0.8510 - val_loss: 0.3512 - val_accuracy: 0.8359\n",
      "Epoch 11/75\n",
      "11984/11984 [==============================] - 3s 292us/step - loss: 0.3216 - accuracy: 0.8536 - val_loss: 0.3509 - val_accuracy: 0.8324\n",
      "Epoch 12/75\n",
      "11984/11984 [==============================] - 2s 182us/step - loss: 0.3070 - accuracy: 0.8617 - val_loss: 0.3332 - val_accuracy: 0.8426\n",
      "Epoch 13/75\n",
      "11984/11984 [==============================] - 2s 178us/step - loss: 0.3015 - accuracy: 0.8647 - val_loss: 0.3177 - val_accuracy: 0.8588\n",
      "Epoch 14/75\n",
      "11984/11984 [==============================] - 2s 188us/step - loss: 0.2876 - accuracy: 0.8748 - val_loss: 0.3123 - val_accuracy: 0.8605\n",
      "Epoch 15/75\n",
      "11984/11984 [==============================] - 2s 185us/step - loss: 0.2770 - accuracy: 0.8765 - val_loss: 0.3264 - val_accuracy: 0.8528\n",
      "Epoch 16/75\n",
      "11984/11984 [==============================] - 2s 182us/step - loss: 0.2721 - accuracy: 0.8822 - val_loss: 0.3172 - val_accuracy: 0.8513\n",
      "Epoch 17/75\n",
      "11984/11984 [==============================] - 2s 178us/step - loss: 0.2590 - accuracy: 0.8849 - val_loss: 0.3125 - val_accuracy: 0.8603\n",
      "Epoch 18/75\n",
      "11984/11984 [==============================] - 2s 181us/step - loss: 0.2557 - accuracy: 0.8874 - val_loss: 0.3067 - val_accuracy: 0.8590\n",
      "Epoch 19/75\n",
      "11984/11984 [==============================] - 2s 180us/step - loss: 0.2430 - accuracy: 0.8934 - val_loss: 0.2833 - val_accuracy: 0.8792\n",
      "Epoch 20/75\n",
      "11984/11984 [==============================] - 3s 233us/step - loss: 0.2370 - accuracy: 0.8964 - val_loss: 0.2971 - val_accuracy: 0.8657\n",
      "Epoch 21/75\n",
      "11984/11984 [==============================] - 3s 218us/step - loss: 0.2270 - accuracy: 0.9018 - val_loss: 0.2987 - val_accuracy: 0.8668\n",
      "Epoch 22/75\n",
      "11984/11984 [==============================] - 3s 230us/step - loss: 0.2218 - accuracy: 0.9040 - val_loss: 0.2843 - val_accuracy: 0.8780\n",
      "Epoch 23/75\n",
      "11984/11984 [==============================] - 3s 217us/step - loss: 0.2175 - accuracy: 0.9042 - val_loss: 0.2935 - val_accuracy: 0.8702\n",
      "Epoch 24/75\n",
      "11984/11984 [==============================] - 3s 210us/step - loss: 0.2112 - accuracy: 0.9113 - val_loss: 0.2830 - val_accuracy: 0.8733\n",
      "Epoch 25/75\n",
      "11984/11984 [==============================] - 2s 191us/step - loss: 0.2075 - accuracy: 0.9116 - val_loss: 0.2798 - val_accuracy: 0.8777\n",
      "Epoch 26/75\n",
      "11984/11984 [==============================] - 2s 203us/step - loss: 0.1940 - accuracy: 0.9154 - val_loss: 0.2783 - val_accuracy: 0.8808\n",
      "Epoch 27/75\n",
      "11984/11984 [==============================] - 2s 203us/step - loss: 0.1951 - accuracy: 0.9148 - val_loss: 0.3015 - val_accuracy: 0.8745\n",
      "Epoch 28/75\n",
      "11984/11984 [==============================] - 2s 194us/step - loss: 0.2204 - accuracy: 0.9215 - val_loss: 0.3110 - val_accuracy: 0.8687\n",
      "Epoch 29/75\n",
      "11984/11984 [==============================] - 2s 201us/step - loss: 0.1894 - accuracy: 0.9181 - val_loss: 0.2886 - val_accuracy: 0.8733\n",
      "Epoch 30/75\n",
      "11984/11984 [==============================] - 2s 200us/step - loss: 0.1763 - accuracy: 0.9269 - val_loss: 0.2769 - val_accuracy: 0.8833\n",
      "Epoch 31/75\n",
      "11984/11984 [==============================] - 2s 203us/step - loss: 0.1761 - accuracy: 0.9271 - val_loss: 0.2804 - val_accuracy: 0.8815\n",
      "Epoch 32/75\n",
      "11984/11984 [==============================] - 2s 196us/step - loss: 0.1691 - accuracy: 0.9288 - val_loss: 0.2528 - val_accuracy: 0.8873\n",
      "Epoch 33/75\n",
      "11984/11984 [==============================] - 2s 197us/step - loss: 0.1585 - accuracy: 0.9338 - val_loss: 0.2748 - val_accuracy: 0.8828\n",
      "Epoch 34/75\n",
      "11984/11984 [==============================] - 2s 197us/step - loss: 0.1643 - accuracy: 0.9329 - val_loss: 0.2707 - val_accuracy: 0.8860\n",
      "Epoch 35/75\n",
      "11984/11984 [==============================] - 2s 199us/step - loss: 0.1569 - accuracy: 0.9350 - val_loss: 0.2790 - val_accuracy: 0.8832\n",
      "Epoch 36/75\n",
      "11984/11984 [==============================] - 2s 201us/step - loss: 0.1612 - accuracy: 0.9333 - val_loss: 0.2608 - val_accuracy: 0.8868\n",
      "Epoch 37/75\n",
      "11984/11984 [==============================] - 2s 202us/step - loss: 0.1502 - accuracy: 0.9380 - val_loss: 0.2872 - val_accuracy: 0.8838\n",
      "Epoch 38/75\n",
      "11984/11984 [==============================] - 2s 206us/step - loss: 0.1432 - accuracy: 0.9431 - val_loss: 0.2896 - val_accuracy: 0.8867\n",
      "Epoch 39/75\n",
      "11984/11984 [==============================] - 2s 206us/step - loss: 0.1530 - accuracy: 0.9351 - val_loss: 0.2700 - val_accuracy: 0.8885\n",
      "Epoch 40/75\n",
      "11984/11984 [==============================] - 2s 202us/step - loss: 0.1407 - accuracy: 0.9426 - val_loss: 0.2602 - val_accuracy: 0.8935\n",
      "Epoch 41/75\n",
      "11984/11984 [==============================] - 2s 205us/step - loss: 0.1405 - accuracy: 0.9423 - val_loss: 0.2927 - val_accuracy: 0.8775\n",
      "Epoch 42/75\n",
      "11984/11984 [==============================] - 2s 201us/step - loss: 0.1354 - accuracy: 0.9437 - val_loss: 0.2754 - val_accuracy: 0.8947\n",
      "Epoch 43/75\n",
      "11984/11984 [==============================] - 3s 214us/step - loss: 0.1429 - accuracy: 0.9423 - val_loss: 0.2772 - val_accuracy: 0.8902\n",
      "Epoch 44/75\n",
      "11984/11984 [==============================] - 2s 207us/step - loss: 0.1337 - accuracy: 0.9439 - val_loss: 0.2936 - val_accuracy: 0.8872\n",
      "Epoch 45/75\n",
      "11984/11984 [==============================] - 3s 212us/step - loss: 0.1308 - accuracy: 0.9483 - val_loss: 0.2667 - val_accuracy: 0.8929\n",
      "Epoch 46/75\n",
      "11984/11984 [==============================] - 2s 205us/step - loss: 0.1272 - accuracy: 0.9481 - val_loss: 0.2725 - val_accuracy: 0.8934\n",
      "Epoch 47/75\n",
      "11984/11984 [==============================] - 2s 204us/step - loss: 0.1301 - accuracy: 0.9467 - val_loss: 0.2579 - val_accuracy: 0.8982\n",
      "Epoch 48/75\n",
      "11984/11984 [==============================] - 2s 203us/step - loss: 0.1324 - accuracy: 0.9464 - val_loss: 0.2461 - val_accuracy: 0.8987\n",
      "Epoch 49/75\n",
      "11984/11984 [==============================] - 3s 262us/step - loss: 0.1160 - accuracy: 0.9528 - val_loss: 0.2589 - val_accuracy: 0.8942\n"
     ]
    },
    {
     "name": "stdout",
     "output_type": "stream",
     "text": [
      "Epoch 50/75\n",
      "11984/11984 [==============================] - 2s 162us/step - loss: 0.1100 - accuracy: 0.9541 - val_loss: 0.2774 - val_accuracy: 0.9004\n",
      "Epoch 51/75\n",
      "11984/11984 [==============================] - 2s 165us/step - loss: 0.1150 - accuracy: 0.9551 - val_loss: 0.2720 - val_accuracy: 0.8965\n",
      "Epoch 52/75\n",
      "11984/11984 [==============================] - 2s 164us/step - loss: 0.1159 - accuracy: 0.9541 - val_loss: 0.3078 - val_accuracy: 0.8850\n",
      "Epoch 53/75\n",
      "11984/11984 [==============================] - 2s 167us/step - loss: 0.1092 - accuracy: 0.9565 - val_loss: 0.2971 - val_accuracy: 0.8902\n",
      "Epoch 54/75\n",
      "11984/11984 [==============================] - 2s 164us/step - loss: 0.1105 - accuracy: 0.9555 - val_loss: 0.2670 - val_accuracy: 0.8984\n",
      "Epoch 55/75\n",
      "11984/11984 [==============================] - 2s 164us/step - loss: 0.1051 - accuracy: 0.9567 - val_loss: 0.2701 - val_accuracy: 0.8967\n",
      "Epoch 56/75\n",
      "11984/11984 [==============================] - 2s 167us/step - loss: 0.0992 - accuracy: 0.9612 - val_loss: 0.2526 - val_accuracy: 0.9044\n",
      "Epoch 57/75\n",
      "11984/11984 [==============================] - 2s 165us/step - loss: 0.1053 - accuracy: 0.9578 - val_loss: 0.2758 - val_accuracy: 0.9035\n",
      "Epoch 58/75\n",
      "11984/11984 [==============================] - 2s 165us/step - loss: 0.0960 - accuracy: 0.9626 - val_loss: 0.2448 - val_accuracy: 0.9052\n",
      "Epoch 59/75\n",
      "11984/11984 [==============================] - 2s 169us/step - loss: 0.0987 - accuracy: 0.9612 - val_loss: 0.2792 - val_accuracy: 0.8962\n",
      "Epoch 60/75\n",
      "11984/11984 [==============================] - 2s 172us/step - loss: 0.0953 - accuracy: 0.9618 - val_loss: 0.2633 - val_accuracy: 0.9040\n",
      "Epoch 61/75\n",
      "11984/11984 [==============================] - 2s 166us/step - loss: 0.0945 - accuracy: 0.9615 - val_loss: 0.2764 - val_accuracy: 0.8999\n",
      "Epoch 62/75\n",
      "11984/11984 [==============================] - 2s 167us/step - loss: 0.0872 - accuracy: 0.9675 - val_loss: 0.2631 - val_accuracy: 0.9037\n",
      "Epoch 63/75\n",
      "11984/11984 [==============================] - 2s 168us/step - loss: 0.0929 - accuracy: 0.9646 - val_loss: 0.2532 - val_accuracy: 0.9087\n",
      "Epoch 64/75\n",
      "11984/11984 [==============================] - 2s 170us/step - loss: 0.0840 - accuracy: 0.9670 - val_loss: 0.2788 - val_accuracy: 0.9052\n",
      "Epoch 65/75\n",
      "11984/11984 [==============================] - 2s 169us/step - loss: 0.0827 - accuracy: 0.9670 - val_loss: 0.2797 - val_accuracy: 0.9012\n",
      "Epoch 66/75\n",
      "11984/11984 [==============================] - 2s 166us/step - loss: 0.0803 - accuracy: 0.9687 - val_loss: 0.3050 - val_accuracy: 0.8975\n",
      "Epoch 67/75\n",
      "11984/11984 [==============================] - 2s 180us/step - loss: 0.0841 - accuracy: 0.9650 - val_loss: 0.3370 - val_accuracy: 0.8952\n",
      "Epoch 68/75\n",
      "11984/11984 [==============================] - 2s 181us/step - loss: 0.0797 - accuracy: 0.9684 - val_loss: 0.3891 - val_accuracy: 0.9094\n",
      "Epoch 69/75\n",
      "11984/11984 [==============================] - 2s 176us/step - loss: 0.0837 - accuracy: 0.9665 - val_loss: 0.2807 - val_accuracy: 0.9039\n",
      "Epoch 70/75\n",
      "11984/11984 [==============================] - 2s 172us/step - loss: 0.0808 - accuracy: 0.9690 - val_loss: 0.2864 - val_accuracy: 0.9070\n",
      "Epoch 71/75\n",
      "11984/11984 [==============================] - 2s 171us/step - loss: 0.0682 - accuracy: 0.9730 - val_loss: 0.2628 - val_accuracy: 0.9100\n",
      "Epoch 72/75\n",
      "11984/11984 [==============================] - 2s 170us/step - loss: 0.0690 - accuracy: 0.9738 - val_loss: 0.2682 - val_accuracy: 0.9054\n",
      "Epoch 73/75\n",
      "11984/11984 [==============================] - 2s 171us/step - loss: 0.0744 - accuracy: 0.9715 - val_loss: 0.5164 - val_accuracy: 0.8939\n",
      "Epoch 74/75\n",
      "11984/11984 [==============================] - 2s 172us/step - loss: 0.0687 - accuracy: 0.9745 - val_loss: 0.3733 - val_accuracy: 0.9102\n",
      "Epoch 75/75\n",
      "11984/11984 [==============================] - 3s 209us/step - loss: 0.0714 - accuracy: 0.9730 - val_loss: 0.3878 - val_accuracy: 0.9029\n",
      "2996/2996 [==============================] - 0s 103us/step\n",
      "Accuracy:  90.28704762458801\n"
     ]
    }
   ],
   "source": [
    "# create model\n",
    "model = Sequential()\n",
    "model.add(Dense(200, activation='relu', input_dim=14))\n",
    "model.add(Dense(150, activation='relu'))\n",
    "model.add(Dense(50, activation='relu'))\n",
    "model.add(Dense(2, activation='sigmoid'))\n",
    "print(model.summary())\n",
    "\n",
    "model.compile(loss='binary_crossentropy', optimizer='adam', metrics=['accuracy'])\n",
    "model.fit(x=xTrain, y=yTrain,epochs=75,batch_size=32, validation_data=(xTest,yTest))\n",
    "\n",
    "score, acc = model.evaluate(x=xTest, y=yTest, batch_size=32)\n",
    "# print(model.predict(xTest))\n",
    "\n",
    "print('Accuracy: ',100*(acc))"
   ]
  },
  {
   "cell_type": "markdown",
   "metadata": {},
   "source": [
    "<h2>Sources</h2>\n",
    "<ul>\n",
    "    <li>https://www.dana.org/article/neuroanatomy-the-basics/</li>\n",
    "</ul>"
   ]
  },
  {
   "cell_type": "code",
   "execution_count": null,
   "metadata": {},
   "outputs": [],
   "source": []
  }
 ],
 "metadata": {
  "file_extension": ".py",
  "kernelspec": {
   "display_name": "Python 3",
   "language": "python",
   "name": "python3"
  },
  "language_info": {
   "codemirror_mode": {
    "name": "ipython",
    "version": 3
   },
   "file_extension": ".py",
   "mimetype": "text/x-python",
   "name": "python",
   "nbconvert_exporter": "python",
   "pygments_lexer": "ipython3",
   "version": "3.7.6"
  },
  "mimetype": "text/x-python",
  "name": "python",
  "npconvert_exporter": "python",
  "pygments_lexer": "ipython3",
  "version": 3,
  "widgets": {
   "application/vnd.jupyter.widget-state+json": {
    "state": {},
    "version_major": 2,
    "version_minor": 0
   }
  }
 },
 "nbformat": 4,
 "nbformat_minor": 2
}
