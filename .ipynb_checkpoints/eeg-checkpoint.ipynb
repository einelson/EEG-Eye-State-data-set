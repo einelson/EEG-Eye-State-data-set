{
 "cells": [
  {
   "cell_type": "markdown",
   "metadata": {},
   "source": [
    "<h1>Machine learning using Neural networks to predict eye state data</h1>\n",
    "<p>\n",
    "The purpose of this project is to get more familiar with an eeg dataset and learn more about data manipulation. The dataset is slipt into 15 differents columns with the last being the target values (0,1). The target values represent the state of the eye, being open or closed. The other data represents the value of an eeg node which gets the value of the electrical activity in that sector surrounding the node.<br>\n",
    "This dataset is located in the UCI database found <a href='https://archive.ics.uci.edu/ml/datasets/EEG+Eye+State'>here</a>\n",
    "</p>"
   ]
  },
  {
   "cell_type": "markdown",
   "metadata": {},
   "source": [
    "<h2>The purpose of the nodes and locations</h2>\n",
    "<p>The nodes used in this dataset are located in the red filled nodes shown below in Figure 1.</p>\n",
    "<img src='data/eeg_eye_state_map.png' alt='eeg_eye_state_map'>Figure 1 <br>Source: https://www.researchgate.net/figure/Surface-map-of-EEG-electrode-locations_fig34_230864997</img>"
   ]
  },
  {
   "cell_type": "markdown",
   "metadata": {},
   "source": [
    "<h2>The purpose of the node locations</h2>\n",
    "<p>The node locations are placed uniformly on the scalp in order to get the maximum coverage of the brain with the most uniform data. The barin is composed of different reigons, namely the:\n",
    "    <ul>\n",
    "        <li>Occipital lobe: Visual area, sight, image recoginition</li>\n",
    "        <li>Temporal lobe: Association area, short term memory, emotion</li>\n",
    "        <li>Parential lobe: Motor function, voluntary muscles</li>\n",
    "        <li>Frontal lobe: Brocas area, muscles of speech</li>\n",
    "        <li>Temporal lobe: Auditory area, hearing</li>\n",
    "        <li>[name]: Emotional area, pain, hunger, 'flight or fight'</li>\n",
    "        <li>Pariental lobe: Sensory association</li>\n",
    "        <li>Frontal lobe: Oilfactory, smelling</li>\n",
    "        <li>Pariental lobe: Sensory area, sensation grom skin and muscles</li>\n",
    "        <li>Pariental lobe: Somatosensory association, evaluation of weight, temperature, texture (object recognition)</li>\n",
    "        <li>Temporal lobe: Wernicke's area, Written and spoken language comprehension</li>\n",
    "        <li>Cerebral Cortex: Motor function, eye movement and orientation</li>\n",
    "        <li>Frontal lobe: Higher mental functions, concentration, planning, judgement, emotional expression, creativity, inhibition</li>\n",
    "        <li>Cerebellum: Motor functions, balance, equilibrium, posture, coordination of movement</li>\n",
    "    </ul>\n",
    "    The data above can be visualized in Figure 2.\n",
    "</p>\n",
    "<img src='data/anatomy-function-brain-areas-basics-large.jpg' alt='Brain location map'>\n",
    "Figure 2<br>Source: https://www.dana.org/wp-content/uploads/2019/08/anatomy-function-brain-areas-basics-large.jpg</img>\n",
    "<p>By looking at the node locations in this experiment and comparing with the lobe location and function we can see why these certain locations were picked.\n",
    "    <ul>\n",
    "        <li>AF3/AF4: </li>\n",
    "        <li>F3/F4: </li>\n",
    "        <li>F7/F8: </li>\n",
    "        <li>FC5/FC8: </li>\n",
    "        <li>T7/T8: </li>\n",
    "        <li>P7/P8: </li>\n",
    "        <li>O1/O2: </li>\n",
    "    </ul>\n",
    "</p>"
   ]
  },
  {
   "cell_type": "markdown",
   "metadata": {},
   "source": [
    "<h2>Code: EEG eye-state prediction</h2>"
   ]
  },
  {
   "cell_type": "code",
   "execution_count": 11,
   "metadata": {},
   "outputs": [],
   "source": [
    "# import libraries\n",
    "import numpy as np\n",
    "import pandas as pd\n",
    "from scipy.io.arff import loadarff\n",
    "from scipy import stats\n",
    "\n",
    "from keras.utils import normalize\n",
    "from keras.utils import np_utils\n",
    "from keras.models import Sequential\n",
    "from keras.layers import Dense, Activation, Dropout\n",
    "from keras.optimizers import Adam\n",
    "# from keras.optimizers import SGD\n",
    "\n",
    "from sklearn.model_selection import train_test_split\n",
    "from sklearn.metrics import accuracy_score\n",
    "from sklearn.preprocessing import StandardScaler\n"
   ]
  },
  {
   "cell_type": "code",
   "execution_count": 12,
   "metadata": {
    "scrolled": true
   },
   "outputs": [],
   "source": [
    "# Load in the data frame\n",
    "raw_data = loadarff('data/EEG Eye State.arff')\n",
    "df_data = pd.DataFrame(raw_data[0])\n",
    "# df_data.head()"
   ]
  },
  {
   "cell_type": "markdown",
   "metadata": {},
   "source": [
    "<p>In order to pre-process the data I split the data into two sets, The data and the targets. Next I normalized by z-score to make the data more manageable and easier to learn.<br>The targets here are 1 or 0, meaning is the eye open or closed?</p>"
   ]
  },
  {
   "cell_type": "code",
   "execution_count": 16,
   "metadata": {},
   "outputs": [],
   "source": [
    "# Preprocess Data\n",
    "# split into data and targets\n",
    "data_targets=df_data.iloc[:,-1]\n",
    "data=df_data.iloc[:,:-1]\n",
    "\n",
    "# data normalization with sklearn z-score\n",
    "from sklearn.preprocessing import StandardScaler\n",
    "scaler = StandardScaler()\n",
    "scaler.fit(data)\n",
    "data = scaler.transform(data)\n",
    "\n",
    "# convert targets into 1 or 0\n",
    "data_targets=np_utils.to_categorical(data_targets, num_classes=2)"
   ]
  },
  {
   "cell_type": "markdown",
   "metadata": {},
   "source": [
    "<p>In order to split into training and test data I use the method train_test_split() which randomizes the data while splitting it into a training and testing data set. The data is split into 80% training and 20% testing and validation.</p>"
   ]
  },
  {
   "cell_type": "code",
   "execution_count": 14,
   "metadata": {
    "scrolled": true
   },
   "outputs": [],
   "source": [
    "# split the data\n",
    "xTrain, xTest, yTrain, yTest = train_test_split(data, data_targets, test_size = 0.2)\n",
    "# print(xTrain, yTrain)"
   ]
  },
  {
   "cell_type": "markdown",
   "metadata": {},
   "source": [
    "<p>This is the creation of the model.<br>\n",
    "The model is split into 4 layers with two being the hidden layers. The goal here is to make a network that can accurately predict the satet of the eye, being 0 or 1.<br>\n",
    "The layers [100, 50, 50, 2] with the batch size 32 and 50 epochs gives us an accuracy rate of 88.6%.<br>\n",
    "The layers [200, 150, 50, 2] with the batch size 32 and 50 apochs gives us an accuracy rate of 90.8%.</p>"
   ]
  },
  {
   "cell_type": "code",
   "execution_count": 24,
   "metadata": {
    "scrolled": true
   },
   "outputs": [
    {
     "name": "stdout",
     "output_type": "stream",
     "text": [
      "Model: \"sequential_8\"\n",
      "_________________________________________________________________\n",
      "Layer (type)                 Output Shape              Param #   \n",
      "=================================================================\n",
      "dense_26 (Dense)             (None, 200)               3000      \n",
      "_________________________________________________________________\n",
      "dense_27 (Dense)             (None, 150)               30150     \n",
      "_________________________________________________________________\n",
      "dense_28 (Dense)             (None, 50)                7550      \n",
      "_________________________________________________________________\n",
      "dense_29 (Dense)             (None, 2)                 102       \n",
      "=================================================================\n",
      "Total params: 40,802\n",
      "Trainable params: 40,802\n",
      "Non-trainable params: 0\n",
      "_________________________________________________________________\n",
      "None\n",
      "Train on 11984 samples, validate on 2996 samples\n",
      "Epoch 1/50\n",
      "11984/11984 [==============================] - 5s 396us/step - loss: 0.6203 - accuracy: 0.6407 - val_loss: 0.5552 - val_accuracy: 0.7101\n",
      "Epoch 2/50\n",
      "11984/11984 [==============================] - 3s 289us/step - loss: 0.5194 - accuracy: 0.7322 - val_loss: 0.4990 - val_accuracy: 0.7572\n",
      "Epoch 3/50\n",
      "11984/11984 [==============================] - 3s 288us/step - loss: 0.4866 - accuracy: 0.7672 - val_loss: 0.4523 - val_accuracy: 0.7765\n",
      "Epoch 4/50\n",
      "11984/11984 [==============================] - 4s 295us/step - loss: 0.4296 - accuracy: 0.7959 - val_loss: 0.4222 - val_accuracy: 0.7991\n",
      "Epoch 5/50\n",
      "11984/11984 [==============================] - 3s 270us/step - loss: 0.4046 - accuracy: 0.8073 - val_loss: 0.4049 - val_accuracy: 0.8106\n",
      "Epoch 6/50\n",
      "11984/11984 [==============================] - 4s 296us/step - loss: 0.3819 - accuracy: 0.8217 - val_loss: 0.3832 - val_accuracy: 0.8204\n",
      "Epoch 7/50\n",
      "11984/11984 [==============================] - 3s 282us/step - loss: 0.3708 - accuracy: 0.8296 - val_loss: 0.3829 - val_accuracy: 0.8183\n",
      "Epoch 8/50\n",
      "11984/11984 [==============================] - 3s 290us/step - loss: 0.3491 - accuracy: 0.8369 - val_loss: 0.3835 - val_accuracy: 0.8186\n",
      "Epoch 9/50\n",
      "11984/11984 [==============================] - 4s 304us/step - loss: 0.3391 - accuracy: 0.8458 - val_loss: 0.3635 - val_accuracy: 0.8388\n",
      "Epoch 10/50\n",
      "11984/11984 [==============================] - 4s 312us/step - loss: 0.3278 - accuracy: 0.8523 - val_loss: 0.3653 - val_accuracy: 0.8308\n",
      "Epoch 11/50\n",
      "11984/11984 [==============================] - 5s 405us/step - loss: 0.3176 - accuracy: 0.8581 - val_loss: 0.3947 - val_accuracy: 0.8154\n",
      "Epoch 12/50\n",
      "11984/11984 [==============================] - 4s 371us/step - loss: 0.3037 - accuracy: 0.8622 - val_loss: 0.3162 - val_accuracy: 0.8536\n",
      "Epoch 13/50\n",
      "11984/11984 [==============================] - 4s 312us/step - loss: 0.2904 - accuracy: 0.8702 - val_loss: 0.3323 - val_accuracy: 0.8550\n",
      "Epoch 14/50\n",
      "11984/11984 [==============================] - 4s 328us/step - loss: 0.2848 - accuracy: 0.8736 - val_loss: 0.3185 - val_accuracy: 0.8606\n",
      "Epoch 15/50\n",
      "11984/11984 [==============================] - 4s 302us/step - loss: 0.2788 - accuracy: 0.8759 - val_loss: 0.3150 - val_accuracy: 0.8556\n",
      "Epoch 16/50\n",
      "11984/11984 [==============================] - 3s 283us/step - loss: 0.2656 - accuracy: 0.8813 - val_loss: 0.3085 - val_accuracy: 0.8677\n",
      "Epoch 17/50\n",
      "11984/11984 [==============================] - 4s 300us/step - loss: 0.2564 - accuracy: 0.8871 - val_loss: 0.3452 - val_accuracy: 0.8508\n",
      "Epoch 18/50\n",
      "11984/11984 [==============================] - 3s 266us/step - loss: 0.2492 - accuracy: 0.8917 - val_loss: 0.2861 - val_accuracy: 0.8730\n",
      "Epoch 19/50\n",
      "11984/11984 [==============================] - 4s 300us/step - loss: 0.2452 - accuracy: 0.8936 - val_loss: 0.3024 - val_accuracy: 0.8688\n",
      "Epoch 20/50\n",
      "11984/11984 [==============================] - 5s 379us/step - loss: 0.2322 - accuracy: 0.8986 - val_loss: 0.2917 - val_accuracy: 0.8707\n",
      "Epoch 21/50\n",
      "11984/11984 [==============================] - 6s 483us/step - loss: 0.2749 - accuracy: 0.8921 - val_loss: 0.2968 - val_accuracy: 0.8680\n",
      "Epoch 22/50\n",
      "11984/11984 [==============================] - 4s 362us/step - loss: 0.2320 - accuracy: 0.9004 - val_loss: 0.2934 - val_accuracy: 0.8738\n",
      "Epoch 23/50\n",
      "11984/11984 [==============================] - 4s 359us/step - loss: 0.2168 - accuracy: 0.9072 - val_loss: 0.2860 - val_accuracy: 0.8697\n",
      "Epoch 24/50\n",
      "11984/11984 [==============================] - 5s 397us/step - loss: 0.2085 - accuracy: 0.9093 - val_loss: 0.2931 - val_accuracy: 0.8772\n",
      "Epoch 25/50\n",
      "11984/11984 [==============================] - 3s 275us/step - loss: 0.2073 - accuracy: 0.9078 - val_loss: 0.2934 - val_accuracy: 0.8768\n",
      "Epoch 26/50\n",
      "11984/11984 [==============================] - 6s 466us/step - loss: 0.2055 - accuracy: 0.9091 - val_loss: 0.2651 - val_accuracy: 0.8890\n",
      "Epoch 27/50\n",
      "11984/11984 [==============================] - 4s 375us/step - loss: 0.1939 - accuracy: 0.9192 - val_loss: 0.2593 - val_accuracy: 0.8877\n",
      "Epoch 28/50\n",
      "11984/11984 [==============================] - 4s 293us/step - loss: 0.1953 - accuracy: 0.9154 - val_loss: 0.2948 - val_accuracy: 0.8737\n",
      "Epoch 29/50\n",
      "11984/11984 [==============================] - 11s 946us/step - loss: 0.1845 - accuracy: 0.9204 - val_loss: 0.2784 - val_accuracy: 0.8847\n",
      "Epoch 30/50\n",
      "11984/11984 [==============================] - 6s 516us/step - loss: 0.1844 - accuracy: 0.9220 - val_loss: 0.3198 - val_accuracy: 0.8708\n",
      "Epoch 31/50\n",
      "11984/11984 [==============================] - 4s 310us/step - loss: 0.1822 - accuracy: 0.9240 - val_loss: 0.2926 - val_accuracy: 0.8838\n",
      "Epoch 32/50\n",
      "11984/11984 [==============================] - 6s 514us/step - loss: 0.1844 - accuracy: 0.9233 - val_loss: 0.2954 - val_accuracy: 0.8805\n",
      "Epoch 33/50\n",
      "11984/11984 [==============================] - 5s 379us/step - loss: 0.1726 - accuracy: 0.9273 - val_loss: 0.2536 - val_accuracy: 0.89900s - loss: 0.1731 - accuracy: 0.\n",
      "Epoch 34/50\n",
      "11984/11984 [==============================] - 3s 259us/step - loss: 0.1623 - accuracy: 0.9313 - val_loss: 0.3049 - val_accuracy: 0.8770\n",
      "Epoch 35/50\n",
      "11984/11984 [==============================] - 3s 282us/step - loss: 0.1679 - accuracy: 0.9294 - val_loss: 0.2943 - val_accuracy: 0.8813\n",
      "Epoch 36/50\n",
      "11984/11984 [==============================] - 9s 744us/step - loss: 0.1677 - accuracy: 0.9282 - val_loss: 0.2749 - val_accuracy: 0.8843\n",
      "Epoch 37/50\n",
      "11984/11984 [==============================] - 6s 472us/step - loss: 0.1567 - accuracy: 0.9340 - val_loss: 0.2620 - val_accuracy: 0.8897\n",
      "Epoch 38/50\n",
      "11984/11984 [==============================] - 4s 313us/step - loss: 0.1577 - accuracy: 0.9332 - val_loss: 0.2432 - val_accuracy: 0.9025\n",
      "Epoch 39/50\n",
      "11984/11984 [==============================] - 4s 307us/step - loss: 0.1507 - accuracy: 0.9373 - val_loss: 0.2425 - val_accuracy: 0.9034\n",
      "Epoch 40/50\n",
      "11984/11984 [==============================] - 4s 311us/step - loss: 0.1536 - accuracy: 0.9375 - val_loss: 0.2469 - val_accuracy: 0.9027\n",
      "Epoch 41/50\n",
      "11984/11984 [==============================] - 4s 320us/step - loss: 0.1454 - accuracy: 0.9389 - val_loss: 0.2903 - val_accuracy: 0.8895\n",
      "Epoch 42/50\n",
      "11984/11984 [==============================] - 5s 411us/step - loss: 0.1429 - accuracy: 0.9396 - val_loss: 0.2654 - val_accuracy: 0.8910\n",
      "Epoch 43/50\n",
      "11984/11984 [==============================] - 4s 304us/step - loss: 0.1379 - accuracy: 0.9439 - val_loss: 0.2504 - val_accuracy: 0.9032\n",
      "Epoch 44/50\n",
      "11984/11984 [==============================] - 3s 289us/step - loss: 0.1404 - accuracy: 0.9425 - val_loss: 0.2730 - val_accuracy: 0.8904\n",
      "Epoch 45/50\n",
      "11984/11984 [==============================] - 3s 291us/step - loss: 0.1379 - accuracy: 0.9428 - val_loss: 0.2472 - val_accuracy: 0.9017\n",
      "Epoch 46/50\n",
      "11984/11984 [==============================] - 3s 265us/step - loss: 0.1341 - accuracy: 0.9449 - val_loss: 0.2615 - val_accuracy: 0.8960\n",
      "Epoch 47/50\n",
      "11984/11984 [==============================] - 4s 300us/step - loss: 0.1214 - accuracy: 0.9501 - val_loss: 0.2699 - val_accuracy: 0.8905\n",
      "Epoch 48/50\n",
      "11984/11984 [==============================] - 3s 286us/step - loss: 0.1253 - accuracy: 0.9490 - val_loss: 0.2817 - val_accuracy: 0.9017\n",
      "Epoch 49/50\n",
      "11984/11984 [==============================] - 4s 319us/step - loss: 0.1269 - accuracy: 0.9501 - val_loss: 0.2484 - val_accuracy: 0.9067\n",
      "Epoch 50/50\n",
      "11984/11984 [==============================] - 7s 592us/step - loss: 0.1108 - accuracy: 0.9551 - val_loss: 0.2461 - val_accuracy: 0.9082\n",
      "2996/2996 [==============================] - 0s 134us/step\n",
      "Accuracy:  90.82109332084656\n"
     ]
    }
   ],
   "source": [
    "# create model\n",
    "model = Sequential()\n",
    "model.add(Dense(200, activation='relu', input_dim=14))\n",
    "model.add(Dense(150, activation='relu'))\n",
    "model.add(Dense(50, activation='relu'))\n",
    "model.add(Dense(2, activation='sigmoid'))\n",
    "print(model.summary())\n",
    "\n",
    "model.compile(loss='binary_crossentropy', optimizer='adam', metrics=['accuracy'])\n",
    "model.fit(x=xTrain, y=yTrain,epochs=50,batch_size=32, validation_data=(xTest,yTest))\n",
    "\n",
    "score, acc = model.evaluate(x=xTest, y=yTest, batch_size=32)\n",
    "# print(model.predict(xTest))\n",
    "\n",
    "print('Accuracy: ',100*(acc))"
   ]
  },
  {
   "cell_type": "markdown",
   "metadata": {},
   "source": [
    "<h2>Sources</h2>\n",
    "<ul>\n",
    "    <li>https://www.dana.org/article/neuroanatomy-the-basics/</li>\n",
    "</ul>"
   ]
  },
  {
   "cell_type": "code",
   "execution_count": null,
   "metadata": {},
   "outputs": [],
   "source": []
  }
 ],
 "metadata": {
  "file_extension": ".py",
  "kernelspec": {
   "display_name": "Python 3",
   "language": "python",
   "name": "python3"
  },
  "language_info": {
   "codemirror_mode": {
    "name": "ipython",
    "version": 3
   },
   "file_extension": ".py",
   "mimetype": "text/x-python",
   "name": "python",
   "nbconvert_exporter": "python",
   "pygments_lexer": "ipython3",
   "version": "3.7.6"
  },
  "mimetype": "text/x-python",
  "name": "python",
  "npconvert_exporter": "python",
  "pygments_lexer": "ipython3",
  "version": 3,
  "widgets": {
   "application/vnd.jupyter.widget-state+json": {
    "state": {},
    "version_major": 2,
    "version_minor": 0
   }
  }
 },
 "nbformat": 4,
 "nbformat_minor": 2
}
