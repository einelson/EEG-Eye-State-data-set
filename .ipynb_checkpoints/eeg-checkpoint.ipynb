{
 "cells": [
  {
   "cell_type": "markdown",
   "metadata": {},
   "source": [
    "<h1>Machine learning using Neural networks to predict eye state data</h1>\n",
    "<p>\n",
    "The purpose of this project is to get more familiar with an eeg dataset and learn more about data manipulation. The dataset is slipt into 15 differents columns with the last being the target values (0,1). The target values represent the state of the eye, being open or closed. The other data represents the value of an eeg node which gets the value of the electrical activity in that sector surrounding the node.<br>\n",
    "This dataset is located in the UCI database found <a href='https://archive.ics.uci.edu/ml/datasets/EEG+Eye+State'>here</a>\n",
    "</p>"
   ]
  },
  {
   "cell_type": "markdown",
   "metadata": {},
   "source": [
    "<h2>The purpose of the nodes and locations</h2>\n",
    "<p>The nodes used in this dataset are located in the red filled nodes shown below in Figure 1.</p>\n",
    "<img src='data/eeg_eye_state_map.png' alt='eeg_eye_state_map'>Figure 1 <br>Source:\n",
    "<a href='https://www.researchgate.net/figure/Surface-map-of-EEG-electrode-locations_fig34_230864997'>https://www.researchgate.net/figure/Surface-map-of-EEG-electrode-locations_fig34_230864997</a>"
   ]
  },
  {
   "cell_type": "markdown",
   "metadata": {},
   "source": [
    "<h2>The purpose of the node locations</h2>\n",
    "<p>The node locations are placed uniformly on the scalp in order to get the maximum coverage of the brain with the most uniform data. The barin is composed of different reigons, namely the:\n",
    "    <ul>\n",
    "        <li>Occipital lobe: Visual area, sight, image recoginition</li>\n",
    "        <li>Temporal lobe: Association area, short term memory, emotion</li>\n",
    "        <li>Parential lobe: Motor function, voluntary muscles</li>\n",
    "        <li>Frontal lobe: Brocas area, muscles of speech</li>\n",
    "        <li>Temporal lobe: Auditory area, hearing</li>\n",
    "        <li>[name]: Emotional area, pain, hunger, 'flight or fight'</li>\n",
    "        <li>Pariental lobe: Sensory association</li>\n",
    "        <li>Frontal lobe: Oilfactory, smelling</li>\n",
    "        <li>Pariental lobe: Sensory area, sensation grom skin and muscles</li>\n",
    "        <li>Pariental lobe: Somatosensory association, evaluation of weight, temperature, texture (object recognition)</li>\n",
    "        <li>Temporal lobe: Wernicke's area, Written and spoken language comprehension</li>\n",
    "        <li>Cerebral Cortex: Motor function, eye movement and orientation</li>\n",
    "        <li>Frontal lobe: Higher mental functions, concentration, planning, judgement, emotional expression, creativity, inhibition</li>\n",
    "        <li>Cerebellum: Motor functions, balance, equilibrium, posture, coordination of movement</li>\n",
    "    </ul>\n",
    "    The data above can be visualized in Figure 2.\n",
    "</p>\n",
    "<img src='data/anatomy-function-brain-areas-basics-large.jpg' alt='Brain location map'>\n",
    "Figure 2<br>Source:\n",
    "<a href='https://www.dana.org/wp-content/uploads/2019/08/anatomy-function-brain-areas-basics-large.jpg'>https://www.dana.org/wp-content/uploads/2019/08/anatomy-function-brain-areas-basics-large.jpg</a></img>\n",
    "<p>By looking at the node locations in this experiment and comparing with the lobe location and function we can see why these certain locations were picked.\n",
    "    <ul>\n",
    "        <li>AF3/AF4: Frontal lobe- Higher mental functions</li>\n",
    "        <li>F3/F4: Frontal lobe- Higher mental functions</li>\n",
    "        <li>F7/F8: Inferior Frontal/Brocas- Functions of Speech</li>\n",
    "        <li>FC5/FC8: Cerebral Cortex-Motor functions <strong>eye movement/ orientation</strong></li>\n",
    "        <li>T7/T8: Temporal lobe- Short term memory/emotion</li>\n",
    "        <li>P7/P8: Posterior Temporal- Hearing, speech <strong>visual</strong> recoginition</li>\n",
    "        <li>O1/O2: Occipital lobe- <strong>Visual, sight, image recognition</strong></li>\n",
    "    </ul>\n",
    "    Looking at the locations of the nodes placement can help us gain an understanding of the <i>why?</i> The nodes seemed to be placed uniformly. (Which is debateably important. See: <a href='https://www.health.harvard.edu/blog/right-brainleft-brain-right-2017082512222'>https://www.health.harvard.edu/blog/right-brainleft-brain-right-2017082512222</a>) Looking further into the placement the nodes seem to cover the lobes of the brain that have to do with vision, along with some other lobes pertaining to thought/ memory and speech.\n",
    "</p>"
   ]
  },
  {
   "cell_type": "markdown",
   "metadata": {},
   "source": [
    "<h2>Conclusion</h2>\n",
    "<p>\n",
    "    In all it is safe to say that EEG data is very complex, but it is trainable. There is a lot that goes into gathering EEG data, namely the position of the nodes. In this conclusion I was able to reach a 93.858% accuracy on the given data set.\n",
    "</p>"
   ]
  },
  {
   "cell_type": "markdown",
   "metadata": {},
   "source": [
    "<h2>Sources</h2>\n",
    "<ul>\n",
    "    <li>https://www.dana.org/article/neuroanatomy-the-basics/</li>\n",
    "</ul>"
   ]
  }
 ],
 "metadata": {
  "file_extension": ".py",
  "kernelspec": {
   "display_name": "Python 3",
   "language": "python",
   "name": "python3"
  },
  "language_info": {
   "codemirror_mode": {
    "name": "ipython",
    "version": 3
   },
   "file_extension": ".py",
   "mimetype": "text/x-python",
   "name": "python",
   "nbconvert_exporter": "python",
   "pygments_lexer": "ipython3",
   "version": "3.7.7"
  },
  "mimetype": "text/x-python",
  "name": "python",
  "npconvert_exporter": "python",
  "pygments_lexer": "ipython3",
  "version": 3,
  "widgets": {
   "application/vnd.jupyter.widget-state+json": {
    "state": {},
    "version_major": 2,
    "version_minor": 0
   }
  }
 },
 "nbformat": 4,
 "nbformat_minor": 2
}
