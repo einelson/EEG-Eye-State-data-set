{
 "cells": [
  {
   "cell_type": "markdown",
   "metadata": {
    "scrolled": true,
    "slideshow": {
     "slide_type": "-"
    }
   },
   "source": [
    "<h1>Machine learning using Neural networks to predict eye state data</h1>"
   ]
  },
  {
   "cell_type": "code",
   "execution_count": 17,
   "metadata": {},
   "outputs": [],
   "source": [
    "# import libraries\n",
    "import numpy as np\n",
    "import pandas as pd\n",
    "from scipy.io.arff import loadarff\n",
    "from sklearn.model_selection import train_test_split\n",
    "from sklearn.neural_network import MLPClassifier\n",
    "from matplotlib import pyplot"
   ]
  },
  {
   "cell_type": "code",
   "execution_count": 9,
   "metadata": {},
   "outputs": [
    {
     "name": "stdout",
     "output_type": "stream",
     "text": [
      "           AF3       F7       F3      FC5       T7       P7       O1       O2  \\\n",
      "0      4329.23  4009.23  4289.23  4148.21  4350.26  4586.15  4096.92  4641.03   \n",
      "1      4324.62  4004.62  4293.85  4148.72  4342.05  4586.67  4097.44  4638.97   \n",
      "2      4327.69  4006.67  4295.38  4156.41  4336.92  4583.59  4096.92  4630.26   \n",
      "3      4328.72  4011.79  4296.41  4155.90  4343.59  4582.56  4097.44  4630.77   \n",
      "4      4326.15  4011.79  4292.31  4151.28  4347.69  4586.67  4095.90  4627.69   \n",
      "...        ...      ...      ...      ...      ...      ...      ...      ...   \n",
      "14975  4281.03  3990.26  4245.64  4116.92  4333.85  4614.36  4074.87  4625.64   \n",
      "14976  4276.92  3991.79  4245.13  4110.77  4332.82  4615.38  4073.33  4621.54   \n",
      "14977  4277.44  3990.77  4246.67  4113.85  4333.33  4615.38  4072.82  4623.59   \n",
      "14978  4284.62  3991.79  4251.28  4122.05  4334.36  4616.41  4080.51  4628.72   \n",
      "14979  4287.69  3997.44  4260.00  4121.03  4333.33  4616.41  4088.72  4638.46   \n",
      "\n",
      "            P8       T8      FC6       F4       F8      AF4 eyeDetection  \n",
      "0      4222.05  4238.46  4211.28  4280.51  4635.90  4393.85         b'0'  \n",
      "1      4210.77  4226.67  4207.69  4279.49  4632.82  4384.10         b'0'  \n",
      "2      4207.69  4222.05  4206.67  4282.05  4628.72  4389.23         b'0'  \n",
      "3      4217.44  4235.38  4210.77  4287.69  4632.31  4396.41         b'0'  \n",
      "4      4210.77  4244.10  4212.82  4288.21  4632.82  4398.46         b'0'  \n",
      "...        ...      ...      ...      ...      ...      ...          ...  \n",
      "14975  4203.08  4221.54  4171.28  4269.23  4593.33  4340.51         b'1'  \n",
      "14976  4194.36  4217.44  4162.56  4259.49  4590.26  4333.33         b'1'  \n",
      "14977  4193.33  4212.82  4160.51  4257.95  4591.79  4339.49         b'1'  \n",
      "14978  4200.00  4220.00  4165.64  4267.18  4596.41  4350.77         b'1'  \n",
      "14979  4212.31  4226.67  4167.69  4274.36  4597.95  4350.77         b'1'  \n",
      "\n",
      "[14980 rows x 15 columns]\n"
     ]
    }
   ],
   "source": [
    "# Load in the data frame\n",
    "raw_data = loadarff('data/EEG Eye State.arff')\n",
    "df_data = pd.DataFrame(raw_data[0])\n",
    "print(df_data)"
   ]
  },
  {
   "cell_type": "raw",
   "metadata": {},
   "source": [
    "In order to pre-process the data we split "
   ]
  },
  {
   "cell_type": "code",
   "execution_count": 68,
   "metadata": {},
   "outputs": [],
   "source": [
    "# Preprocess Data\n",
    "data_targets=df_data.iloc[:,-1]\n",
    "data=df_data.iloc[:,:-1]\n",
    "\n",
    "s = pd.Series(data_targets)\n",
    "data_targets=pd.get_dummies(s)\n",
    "data_targets=data_targets.iloc[:,1]"
   ]
  },
  {
   "cell_type": "raw",
   "metadata": {},
   "source": [
    "More description"
   ]
  },
  {
   "cell_type": "code",
   "execution_count": 70,
   "metadata": {},
   "outputs": [],
   "source": [
    "# split the data\n",
    "xTrain, xTest, yTrain, yTest = train_test_split(data, data_targets, test_size = 20, random_state = 25)"
   ]
  },
  {
   "cell_type": "code",
   "execution_count": 71,
   "metadata": {},
   "outputs": [
    {
     "data": {
      "text/plain": [
       "MLPClassifier(activation='relu', alpha=1e-05, batch_size='auto', beta_1=0.9,\n",
       "              beta_2=0.999, early_stopping=False, epsilon=1e-08,\n",
       "              hidden_layer_sizes=(14, 10, 4, 2), learning_rate='constant',\n",
       "              learning_rate_init=0.001, max_fun=15000, max_iter=200,\n",
       "              momentum=0.9, n_iter_no_change=10, nesterovs_momentum=True,\n",
       "              power_t=0.5, random_state=1, shuffle=True, solver='lbfgs',\n",
       "              tol=0.0001, validation_fraction=0.1, verbose=False,\n",
       "              warm_start=False)"
      ]
     },
     "execution_count": 71,
     "metadata": {},
     "output_type": "execute_result"
    }
   ],
   "source": [
    "# train the neural net\n",
    "clf = MLPClassifier(solver='lbfgs', alpha=1e-5,hidden_layer_sizes=(14, 10, 4, 2), random_state=1)\n",
    "clf.fit(xTrain, yTrain)"
   ]
  },
  {
   "cell_type": "code",
   "execution_count": 74,
   "metadata": {},
   "outputs": [],
   "source": [
    "# evaluate model\n",
    "clf.predict(xTest)"
   ]
  },
  {
   "cell_type": "code",
   "execution_count": null,
   "metadata": {},
   "outputs": [],
   "source": []
  },
  {
   "cell_type": "code",
   "execution_count": null,
   "metadata": {},
   "outputs": [],
   "source": []
  }
 ],
 "metadata": {
  "file_extension": ".py",
  "kernelspec": {
   "display_name": "Python 3",
   "language": "python",
   "name": "python3"
  },
  "language_info": {
   "codemirror_mode": {
    "name": "ipython",
    "version": 3
   },
   "file_extension": ".py",
   "mimetype": "text/x-python",
   "name": "python",
   "nbconvert_exporter": "python",
   "pygments_lexer": "ipython3",
   "version": "3.7.6"
  },
  "mimetype": "text/x-python",
  "name": "python",
  "npconvert_exporter": "python",
  "pygments_lexer": "ipython3",
  "version": 3,
  "widgets": {
   "application/vnd.jupyter.widget-state+json": {
    "state": {},
    "version_major": 2,
    "version_minor": 0
   }
  }
 },
 "nbformat": 4,
 "nbformat_minor": 2
}
